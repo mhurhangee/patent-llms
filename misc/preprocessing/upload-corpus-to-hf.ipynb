{
 "cells": [
  {
   "cell_type": "markdown",
   "id": "99488d3f",
   "metadata": {},
   "source": [
    "# Upload Corpus to HF"
   ]
  },
  {
   "cell_type": "code",
   "execution_count": 13,
   "id": "d7bcc3ad",
   "metadata": {},
   "outputs": [],
   "source": [
    "# ==== CONSTANTS ====\n",
    "INPUT_FILE   = \"../claim1.txt\"  # one claim per line\n",
    "SEED         = 42\n",
    "\n",
    "# split fractions\n",
    "TRAIN_SPLIT  = 0.90\n",
    "VAL_SPLIT    = 0.05\n",
    "TEST_SPLIT   = 0.05\n",
    "assert abs(TRAIN_SPLIT + VAL_SPLIT + TEST_SPLIT - 1.0) < 1e-8\n",
    "\n",
    "# Hugging Face Hub\n",
    "REPO_ID      = \"mhurhangee/patent-ind-claim-en\"\n",
    "PRIVATE      = True\n",
    "HF_TOKEN     = os.getenv(\"HF_TOKEN\")  # load from .env or set manually\n",
    "\n",
    "# README dataset card content\n",
    "README = f\"\"\"---\n",
    "license: cc-by-4.0\n",
    "language:\n",
    "- en\n",
    "tags:\n",
    "- patents\n",
    "- claims\n",
    "- legal\n",
    "- gpt-training\n",
    "---\n",
    "\n",
    "# Patent Independent Claims\n",
    "\n",
    "One claim per line. Optional `<EOS>` and `<IDX>` placeholders.\n",
    "\n",
    "## Splits\n",
    "- Train: {int(TRAIN_SPLIT*100)}%\n",
    "- Validation: {int(VAL_SPLIT*100)}%\n",
    "- Test: {int(TEST_SPLIT*100)}%\n",
    "\n",
    "## Usage\n",
    "```python\n",
    "from datasets import load_dataset\n",
    "ds = load_dataset(\"{REPO_ID}\")\n",
    "```\n",
    "\"\"\""
   ]
  },
  {
   "cell_type": "code",
   "execution_count": 14,
   "id": "cbed1c4f",
   "metadata": {},
   "outputs": [],
   "source": [
    "import os\n",
    "from datasets import load_dataset, DatasetDict\n",
    "from huggingface_hub import create_repo, HfApi"
   ]
  },
  {
   "cell_type": "code",
   "execution_count": 16,
   "id": "838107fb",
   "metadata": {},
   "outputs": [
    {
     "data": {
      "application/vnd.jupyter.widget-view+json": {
       "model_id": "82ba4b20041f4d4aabcb8c99ec6066af",
       "version_major": 2,
       "version_minor": 0
      },
      "text/plain": [
       "Generating train split: 0 examples [00:00, ? examples/s]"
      ]
     },
     "metadata": {},
     "output_type": "display_data"
    }
   ],
   "source": [
    "raw = load_dataset(\"text\", data_files=INPUT_FILE, split=\"train\")\n",
    "raw = raw.shuffle(seed=SEED)"
   ]
  },
  {
   "cell_type": "code",
   "execution_count": 17,
   "id": "e6155584",
   "metadata": {},
   "outputs": [
    {
     "name": "stdout",
     "output_type": "stream",
     "text": [
      "{'train': 502757, 'validation': 27931, 'test': 27931}\n"
     ]
    }
   ],
   "source": [
    "tmp = raw.train_test_split(test_size=TEST_SPLIT, seed=SEED, shuffle=True)\n",
    "rest, test = tmp[\"train\"], tmp[\"test\"]\n",
    "\n",
    "val_frac_of_rest = VAL_SPLIT / (TRAIN_SPLIT + VAL_SPLIT)\n",
    "tmp2 = rest.train_test_split(test_size=val_frac_of_rest, seed=SEED, shuffle=True)\n",
    "train, val = tmp2[\"train\"], tmp2[\"test\"]\n",
    "\n",
    "ds = DatasetDict({\"train\": train, \"validation\": val, \"test\": test})\n",
    "print({k: len(v) for k, v in ds.items()})"
   ]
  },
  {
   "cell_type": "code",
   "execution_count": 18,
   "id": "f8a236df",
   "metadata": {},
   "outputs": [
    {
     "data": {
      "application/vnd.jupyter.widget-view+json": {
       "model_id": "e468f3915f274f6e8cd0885c5ddd342a",
       "version_major": 2,
       "version_minor": 0
      },
      "text/plain": [
       "Uploading the dataset shards:   0%|          | 0/2 [00:00<?, ? shards/s]"
      ]
     },
     "metadata": {},
     "output_type": "display_data"
    },
    {
     "data": {
      "application/vnd.jupyter.widget-view+json": {
       "model_id": "1133a2da0bd349578b8cf340cc6c68d1",
       "version_major": 2,
       "version_minor": 0
      },
      "text/plain": [
       "Creating parquet from Arrow format:   0%|          | 0/252 [00:00<?, ?ba/s]"
      ]
     },
     "metadata": {},
     "output_type": "display_data"
    },
    {
     "data": {
      "application/vnd.jupyter.widget-view+json": {
       "model_id": "0266c815c4f8447081111e8496b23327",
       "version_major": 2,
       "version_minor": 0
      },
      "text/plain": [
       "Creating parquet from Arrow format:   0%|          | 0/252 [00:00<?, ?ba/s]"
      ]
     },
     "metadata": {},
     "output_type": "display_data"
    },
    {
     "data": {
      "application/vnd.jupyter.widget-view+json": {
       "model_id": "945a5c3ecc804ac5829c0f184b7586ca",
       "version_major": 2,
       "version_minor": 0
      },
      "text/plain": [
       "Uploading the dataset shards:   0%|          | 0/1 [00:00<?, ? shards/s]"
      ]
     },
     "metadata": {},
     "output_type": "display_data"
    },
    {
     "data": {
      "application/vnd.jupyter.widget-view+json": {
       "model_id": "4bc42b5415c64feca11ebd42f6e87a44",
       "version_major": 2,
       "version_minor": 0
      },
      "text/plain": [
       "Creating parquet from Arrow format:   0%|          | 0/28 [00:00<?, ?ba/s]"
      ]
     },
     "metadata": {},
     "output_type": "display_data"
    },
    {
     "data": {
      "application/vnd.jupyter.widget-view+json": {
       "model_id": "747b72c50acb44a5ae93a4def57a557a",
       "version_major": 2,
       "version_minor": 0
      },
      "text/plain": [
       "Uploading the dataset shards:   0%|          | 0/1 [00:00<?, ? shards/s]"
      ]
     },
     "metadata": {},
     "output_type": "display_data"
    },
    {
     "data": {
      "application/vnd.jupyter.widget-view+json": {
       "model_id": "0e70280db2f74f48a73ad8bd2a582439",
       "version_major": 2,
       "version_minor": 0
      },
      "text/plain": [
       "Creating parquet from Arrow format:   0%|          | 0/28 [00:00<?, ?ba/s]"
      ]
     },
     "metadata": {},
     "output_type": "display_data"
    },
    {
     "name": "stdout",
     "output_type": "stream",
     "text": [
      "Pushed to https://huggingface.co/datasets/mhurhangee/patent-ind-claim-en\n"
     ]
    }
   ],
   "source": [
    "create_repo(REPO_ID, repo_type=\"dataset\", private=PRIVATE, exist_ok=True, token=HF_TOKEN)\n",
    "ds.push_to_hub(REPO_ID, token=HF_TOKEN)\n",
    "HfApi(token=HF_TOKEN).upload_file(\n",
    "path_or_fileobj=README.encode(\"utf-8\"),\n",
    "path_in_repo=\"README.md\",\n",
    "repo_id=REPO_ID,\n",
    "repo_type=\"dataset\"\n",
    ")\n",
    "print(f\"Pushed to https://huggingface.co/datasets/{REPO_ID}\")"
   ]
  }
 ],
 "metadata": {
  "kernelspec": {
   "display_name": "patent-llms",
   "language": "python",
   "name": "python3"
  },
  "language_info": {
   "codemirror_mode": {
    "name": "ipython",
    "version": 3
   },
   "file_extension": ".py",
   "mimetype": "text/x-python",
   "name": "python",
   "nbconvert_exporter": "python",
   "pygments_lexer": "ipython3",
   "version": "3.11.11"
  }
 },
 "nbformat": 4,
 "nbformat_minor": 5
}
