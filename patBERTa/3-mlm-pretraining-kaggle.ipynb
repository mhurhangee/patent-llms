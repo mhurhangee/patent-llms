{
 "cells": [
  {
   "cell_type": "code",
   "execution_count": 1,
   "metadata": {
    "execution": {
     "iopub.execute_input": "2025-08-12T12:20:42.010557Z",
     "iopub.status.busy": "2025-08-12T12:20:42.009822Z",
     "iopub.status.idle": "2025-08-12T12:22:27.238120Z",
     "shell.execute_reply": "2025-08-12T12:22:27.237322Z",
     "shell.execute_reply.started": "2025-08-12T12:20:42.010521Z"
    },
    "trusted": true
   },
   "outputs": [
    {
     "name": "stdout",
     "output_type": "stream",
     "text": [
      "\u001b[2K   \u001b[90m━━━━━━━━━━━━━━━━━━━━━━━━━━━━━━━━━━━━━━━━\u001b[0m \u001b[32m11.3/11.3 MB\u001b[0m \u001b[31m90.7 MB/s\u001b[0m eta \u001b[36m0:00:00\u001b[0m:00:01\u001b[0m:01\u001b[0m\n",
      "\u001b[2K   \u001b[90m━━━━━━━━━━━━━━━━━━━━━━━━━━━━━━━━━━━━━━━━\u001b[0m \u001b[32m494.8/494.8 kB\u001b[0m \u001b[31m26.0 MB/s\u001b[0m eta \u001b[36m0:00:00\u001b[0m\n",
      "\u001b[2K   \u001b[90m━━━━━━━━━━━━━━━━━━━━━━━━━━━━━━━━━━━━━━━━\u001b[0m \u001b[32m374.7/374.7 kB\u001b[0m \u001b[31m21.1 MB/s\u001b[0m eta \u001b[36m0:00:00\u001b[0m\n",
      "\u001b[2K   \u001b[90m━━━━━━━━━━━━━━━━━━━━━━━━━━━━━━━━━━━━━━━━\u001b[0m \u001b[32m561.5/561.5 kB\u001b[0m \u001b[31m21.9 MB/s\u001b[0m eta \u001b[36m0:00:00\u001b[0m\n",
      "\u001b[2K   \u001b[90m━━━━━━━━━━━━━━━━━━━━━━━━━━━━━━━━━━━━━━━━\u001b[0m \u001b[32m193.6/193.6 kB\u001b[0m \u001b[31m12.1 MB/s\u001b[0m eta \u001b[36m0:00:00\u001b[0m\n",
      "\u001b[2K   \u001b[90m━━━━━━━━━━━━━━━━━━━━━━━━━━━━━━━━━━━━━━━━\u001b[0m \u001b[32m363.4/363.4 MB\u001b[0m \u001b[31m4.7 MB/s\u001b[0m eta \u001b[36m0:00:00\u001b[0m:00:01\u001b[0m00:01\u001b[0m\n",
      "\u001b[2K   \u001b[90m━━━━━━━━━━━━━━━━━━━━━━━━━━━━━━━━━━━━━━━━\u001b[0m \u001b[32m13.8/13.8 MB\u001b[0m \u001b[31m100.5 MB/s\u001b[0m eta \u001b[36m0:00:00\u001b[0m00:01\u001b[0m0:01\u001b[0m\n",
      "\u001b[2K   \u001b[90m━━━━━━━━━━━━━━━━━━━━━━━━━━━━━━━━━━━━━━━━\u001b[0m \u001b[32m24.6/24.6 MB\u001b[0m \u001b[31m75.4 MB/s\u001b[0m eta \u001b[36m0:00:00\u001b[0m:00:01\u001b[0m00:01\u001b[0m\n",
      "\u001b[2K   \u001b[90m━━━━━━━━━━━━━━━━━━━━━━━━━━━━━━━━━━━━━━━━\u001b[0m \u001b[32m883.7/883.7 kB\u001b[0m \u001b[31m37.8 MB/s\u001b[0m eta \u001b[36m0:00:00\u001b[0m\n",
      "\u001b[2K   \u001b[90m━━━━━━━━━━━━━━━━━━━━━━━━━━━━━━━━━━━━━━━━\u001b[0m \u001b[32m664.8/664.8 MB\u001b[0m \u001b[31m2.0 MB/s\u001b[0m eta \u001b[36m0:00:00\u001b[0m:00:01\u001b[0m00:01\u001b[0m\n",
      "\u001b[2K   \u001b[90m━━━━━━━━━━━━━━━━━━━━━━━━━━━━━━━━━━━━━━━━\u001b[0m \u001b[32m211.5/211.5 MB\u001b[0m \u001b[31m2.1 MB/s\u001b[0m eta \u001b[36m0:00:00\u001b[0m:00:01\u001b[0m00:01\u001b[0m\n",
      "\u001b[2K   \u001b[90m━━━━━━━━━━━━━━━━━━━━━━━━━━━━━━━━━━━━━━━━\u001b[0m \u001b[32m56.3/56.3 MB\u001b[0m \u001b[31m29.6 MB/s\u001b[0m eta \u001b[36m0:00:00\u001b[0m:00:01\u001b[0m00:01\u001b[0m\n",
      "\u001b[2K   \u001b[90m━━━━━━━━━━━━━━━━━━━━━━━━━━━━━━━━━━━━━━━━\u001b[0m \u001b[32m127.9/127.9 MB\u001b[0m \u001b[31m13.1 MB/s\u001b[0m eta \u001b[36m0:00:00\u001b[0m00:01\u001b[0m00:01\u001b[0m\n",
      "\u001b[2K   \u001b[90m━━━━━━━━━━━━━━━━━━━━━━━━━━━━━━━━━━━━━━━━\u001b[0m \u001b[32m207.5/207.5 MB\u001b[0m \u001b[31m8.1 MB/s\u001b[0m eta \u001b[36m0:00:00\u001b[0m:00:01\u001b[0m00:01\u001b[0m\n",
      "\u001b[2K   \u001b[90m━━━━━━━━━━━━━━━━━━━━━━━━━━━━━━━━━━━━━━━━\u001b[0m \u001b[32m21.1/21.1 MB\u001b[0m \u001b[31m71.3 MB/s\u001b[0m eta \u001b[36m0:00:00\u001b[0m:00:01\u001b[0m00:01\u001b[0m\n",
      "\u001b[?25h\u001b[31mERROR: pip's dependency resolver does not currently take into account all the packages that are installed. This behaviour is the source of the following dependency conflicts.\n",
      "bigframes 2.8.0 requires google-cloud-bigquery-storage<3.0.0,>=2.30.0, which is not installed.\n",
      "cesium 0.12.4 requires numpy<3.0,>=2.0, but you have numpy 1.26.4 which is incompatible.\n",
      "gcsfs 2025.3.2 requires fsspec==2025.3.2, but you have fsspec 2025.3.0 which is incompatible.\n",
      "bigframes 2.8.0 requires google-cloud-bigquery[bqstorage,pandas]>=3.31.0, but you have google-cloud-bigquery 3.25.0 which is incompatible.\n",
      "bigframes 2.8.0 requires rich<14,>=12.4.4, but you have rich 14.0.0 which is incompatible.\u001b[0m\u001b[31m\n",
      "\u001b[0m"
     ]
    }
   ],
   "source": [
    "# Kaggle cell: resume training + push checkpoints to HF\n",
    "!pip -q install -U transformers datasets accelerate huggingface_hub"
   ]
  },
  {
   "cell_type": "code",
   "execution_count": null,
   "metadata": {
    "execution": {
     "iopub.execute_input": "2025-08-12T12:49:17.431575Z",
     "iopub.status.busy": "2025-08-12T12:49:17.431345Z",
     "iopub.status.idle": "2025-08-12T12:49:49.276386Z",
     "shell.execute_reply": "2025-08-12T12:49:49.275501Z",
     "shell.execute_reply.started": "2025-08-12T12:49:17.431552Z"
    },
    "trusted": true
   },
   "outputs": [
    {
     "name": "stderr",
     "output_type": "stream",
     "text": [
      "2025-08-12 12:49:30.636261: E external/local_xla/xla/stream_executor/cuda/cuda_fft.cc:477] Unable to register cuFFT factory: Attempting to register factory for plugin cuFFT when one has already been registered\n",
      "WARNING: All log messages before absl::InitializeLog() is called are written to STDERR\n",
      "E0000 00:00:1755002970.879564      36 cuda_dnn.cc:8310] Unable to register cuDNN factory: Attempting to register factory for plugin cuDNN when one has already been registered\n",
      "E0000 00:00:1755002970.948294      36 cuda_blas.cc:1418] Unable to register cuBLAS factory: Attempting to register factory for plugin cuBLAS when one has already been registered\n"
     ]
    }
   ],
   "source": [
    "import os, math\n",
    "from pathlib import Path\n",
    "from kaggle_secrets import UserSecretsClient\n",
    "from huggingface_hub import login, snapshot_download\n",
    "from datasets import load_dataset\n",
    "from transformers import (\n",
    "    AutoTokenizer, AutoModelForMaskedLM,\n",
    "    DataCollatorForLanguageModeling, Trainer, TrainingArguments\n",
    ")"
   ]
  },
  {
   "cell_type": "code",
   "execution_count": 2,
   "metadata": {
    "_cell_guid": "b1076dfc-b9ad-4769-8c92-a6c4dae69d19",
    "_uuid": "8f2839f25d086af736a60e9eeb907d3b93b6e0e5",
    "execution": {
     "iopub.execute_input": "2025-08-12T12:49:56.885655Z",
     "iopub.status.busy": "2025-08-12T12:49:56.885051Z",
     "iopub.status.idle": "2025-08-12T12:49:57.221898Z",
     "shell.execute_reply": "2025-08-12T12:49:57.221310Z",
     "shell.execute_reply.started": "2025-08-12T12:49:56.885576Z"
    },
    "trusted": true
   },
   "outputs": [
    {
     "name": "stderr",
     "output_type": "stream",
     "text": [
      "Note: Environment variable`HF_TOKEN` is set and is the current active token independently from the token you've just configured.\n"
     ]
    }
   ],
   "source": [
    "hf_token = UserSecretsClient().get_secret(\"HF_TOKEN\")\n",
    "os.environ[\"HUGGING_FACE_HUB_TOKEN\"] = hf_token\n",
    "login(token=hf_token)"
   ]
  },
  {
   "cell_type": "code",
   "execution_count": 3,
   "metadata": {
    "execution": {
     "iopub.execute_input": "2025-08-12T12:50:00.435412Z",
     "iopub.status.busy": "2025-08-12T12:50:00.434902Z",
     "iopub.status.idle": "2025-08-12T12:50:00.438568Z",
     "shell.execute_reply": "2025-08-12T12:50:00.437862Z",
     "shell.execute_reply.started": "2025-08-12T12:50:00.435389Z"
    },
    "trusted": true
   },
   "outputs": [],
   "source": [
    "repo = \"mhurhangee/patroberta-mlm-sl128-v8000\""
   ]
  },
  {
   "cell_type": "code",
   "execution_count": 4,
   "metadata": {
    "execution": {
     "iopub.execute_input": "2025-08-12T12:50:04.759090Z",
     "iopub.status.busy": "2025-08-12T12:50:04.758813Z",
     "iopub.status.idle": "2025-08-12T12:50:06.274919Z",
     "shell.execute_reply": "2025-08-12T12:50:06.274129Z",
     "shell.execute_reply.started": "2025-08-12T12:50:04.759067Z"
    },
    "trusted": true
   },
   "outputs": [
    {
     "data": {
      "application/vnd.jupyter.widget-view+json": {
       "model_id": "93618af4dc9f44a6b8d3ca3ddef1a8d3",
       "version_major": 2,
       "version_minor": 0
      },
      "text/plain": [
       "Fetching 15 files:   0%|          | 0/15 [00:00<?, ?it/s]"
      ]
     },
     "metadata": {},
     "output_type": "display_data"
    },
    {
     "data": {
      "application/vnd.jupyter.widget-view+json": {
       "model_id": "403be00194b4442593909c9360799efa",
       "version_major": 2,
       "version_minor": 0
      },
      "text/plain": [
       "merges.txt: 0.00B [00:00, ?B/s]"
      ]
     },
     "metadata": {},
     "output_type": "display_data"
    },
    {
     "data": {
      "application/vnd.jupyter.widget-view+json": {
       "model_id": "d6f428db469546d6b1904af96599c22a",
       "version_major": 2,
       "version_minor": 0
      },
      "text/plain": [
       "config.json:   0%|          | 0.00/633 [00:00<?, ?B/s]"
      ]
     },
     "metadata": {},
     "output_type": "display_data"
    },
    {
     "data": {
      "application/vnd.jupyter.widget-view+json": {
       "model_id": "c8f467134ae244f5affc632870a02b64",
       "version_major": 2,
       "version_minor": 0
      },
      "text/plain": [
       "README.md: 0.00B [00:00, ?B/s]"
      ]
     },
     "metadata": {},
     "output_type": "display_data"
    },
    {
     "data": {
      "application/vnd.jupyter.widget-view+json": {
       "model_id": "da47d148ec894e21889dfe5ea51de603",
       "version_major": 2,
       "version_minor": 0
      },
      "text/plain": [
       "model.safetensors:   0%|          | 0.00/6.05M [00:00<?, ?B/s]"
      ]
     },
     "metadata": {},
     "output_type": "display_data"
    },
    {
     "data": {
      "application/vnd.jupyter.widget-view+json": {
       "model_id": "be2580b4ffb34583a6c024df988380ac",
       "version_major": 2,
       "version_minor": 0
      },
      "text/plain": [
       "optimizer.pt:   0%|          | 0.00/12.1M [00:00<?, ?B/s]"
      ]
     },
     "metadata": {},
     "output_type": "display_data"
    },
    {
     "data": {
      "application/vnd.jupyter.widget-view+json": {
       "model_id": "10ccb13b5ce845d0b1b791ac9e275cbe",
       "version_major": 2,
       "version_minor": 0
      },
      "text/plain": [
       "rng_state.pth:   0%|          | 0.00/14.2k [00:00<?, ?B/s]"
      ]
     },
     "metadata": {},
     "output_type": "display_data"
    },
    {
     "data": {
      "application/vnd.jupyter.widget-view+json": {
       "model_id": "51a4bbadf54044009ad8005557e2d24b",
       "version_major": 2,
       "version_minor": 0
      },
      "text/plain": [
       "special_tokens_map.json:   0%|          | 0.00/965 [00:00<?, ?B/s]"
      ]
     },
     "metadata": {},
     "output_type": "display_data"
    },
    {
     "data": {
      "application/vnd.jupyter.widget-view+json": {
       "model_id": "e4a5e25e54ed429d8939809e1b03e436",
       "version_major": 2,
       "version_minor": 0
      },
      "text/plain": [
       "scheduler.pt:   0%|          | 0.00/1.06k [00:00<?, ?B/s]"
      ]
     },
     "metadata": {},
     "output_type": "display_data"
    },
    {
     "data": {
      "application/vnd.jupyter.widget-view+json": {
       "model_id": "f36a310181b34d318f75a76089502e48",
       "version_major": 2,
       "version_minor": 0
      },
      "text/plain": [
       ".gitattributes: 0.00B [00:00, ?B/s]"
      ]
     },
     "metadata": {},
     "output_type": "display_data"
    },
    {
     "data": {
      "application/vnd.jupyter.widget-view+json": {
       "model_id": "3e365e586a5c4d889f9fe006a9fc4659",
       "version_major": 2,
       "version_minor": 0
      },
      "text/plain": [
       "tokenizer.json: 0.00B [00:00, ?B/s]"
      ]
     },
     "metadata": {},
     "output_type": "display_data"
    },
    {
     "data": {
      "application/vnd.jupyter.widget-view+json": {
       "model_id": "97968421449d4032843604a7a51def41",
       "version_major": 2,
       "version_minor": 0
      },
      "text/plain": [
       "scaler.pt:   0%|          | 0.00/988 [00:00<?, ?B/s]"
      ]
     },
     "metadata": {},
     "output_type": "display_data"
    },
    {
     "data": {
      "application/vnd.jupyter.widget-view+json": {
       "model_id": "948496c8d0384eaaa9b1229df16a9fd9",
       "version_major": 2,
       "version_minor": 0
      },
      "text/plain": [
       "tokenizer_config.json: 0.00B [00:00, ?B/s]"
      ]
     },
     "metadata": {},
     "output_type": "display_data"
    },
    {
     "data": {
      "application/vnd.jupyter.widget-view+json": {
       "model_id": "8838dd40593e4b77bacd5e3bd47a7663",
       "version_major": 2,
       "version_minor": 0
      },
      "text/plain": [
       "vocab.json: 0.00B [00:00, ?B/s]"
      ]
     },
     "metadata": {},
     "output_type": "display_data"
    },
    {
     "data": {
      "application/vnd.jupyter.widget-view+json": {
       "model_id": "4b35dd89ffa44b9e9c7210c94b3acdef",
       "version_major": 2,
       "version_minor": 0
      },
      "text/plain": [
       "trainer_state.json: 0.00B [00:00, ?B/s]"
      ]
     },
     "metadata": {},
     "output_type": "display_data"
    },
    {
     "data": {
      "application/vnd.jupyter.widget-view+json": {
       "model_id": "3510356e2182452c9887d960e261ad13",
       "version_major": 2,
       "version_minor": 0
      },
      "text/plain": [
       "training_args.bin:   0%|          | 0.00/5.37k [00:00<?, ?B/s]"
      ]
     },
     "metadata": {},
     "output_type": "display_data"
    }
   ],
   "source": [
    "cache_root = snapshot_download(repo_id=repo, repo_type=\"model\")\n",
    "resume_ckpt = cache_root  # points to the folder with optimizer.pt, trainer_state.json, etc.\n"
   ]
  },
  {
   "cell_type": "code",
   "execution_count": 42,
   "metadata": {
    "execution": {
     "iopub.execute_input": "2025-08-12T13:15:56.736583Z",
     "iopub.status.busy": "2025-08-12T13:15:56.735708Z",
     "iopub.status.idle": "2025-08-12T13:15:57.008862Z",
     "shell.execute_reply": "2025-08-12T13:15:57.008154Z",
     "shell.execute_reply.started": "2025-08-12T13:15:56.736550Z"
    },
    "trusted": true
   },
   "outputs": [],
   "source": [
    "tokenizer = AutoTokenizer.from_pretrained(repo, use_fast=True)\n",
    "model = AutoModelForMaskedLM.from_pretrained(resume_ckpt or repo)"
   ]
  },
  {
   "cell_type": "code",
   "execution_count": 6,
   "metadata": {
    "execution": {
     "iopub.execute_input": "2025-08-12T12:50:22.923974Z",
     "iopub.status.busy": "2025-08-12T12:50:22.923361Z",
     "iopub.status.idle": "2025-08-12T12:50:46.693221Z",
     "shell.execute_reply": "2025-08-12T12:50:46.692280Z",
     "shell.execute_reply.started": "2025-08-12T12:50:22.923949Z"
    },
    "trusted": true
   },
   "outputs": [
    {
     "data": {
      "application/vnd.jupyter.widget-view+json": {
       "model_id": "7b1d62830b104a37a656b59384df9c3a",
       "version_major": 2,
       "version_minor": 0
      },
      "text/plain": [
       "README.md:   0%|          | 0.00/385 [00:00<?, ?B/s]"
      ]
     },
     "metadata": {},
     "output_type": "display_data"
    },
    {
     "data": {
      "application/vnd.jupyter.widget-view+json": {
       "model_id": "bb8ac6338fa74270897d5a00aae408a0",
       "version_major": 2,
       "version_minor": 0
      },
      "text/plain": [
       "data/train-00000-of-00006.parquet:   0%|          | 0.00/147M [00:00<?, ?B/s]"
      ]
     },
     "metadata": {},
     "output_type": "display_data"
    },
    {
     "data": {
      "application/vnd.jupyter.widget-view+json": {
       "model_id": "3a37f7fd0f0c4067a4ff66d433c96f3d",
       "version_major": 2,
       "version_minor": 0
      },
      "text/plain": [
       "data/train-00001-of-00006.parquet:   0%|          | 0.00/147M [00:00<?, ?B/s]"
      ]
     },
     "metadata": {},
     "output_type": "display_data"
    },
    {
     "data": {
      "application/vnd.jupyter.widget-view+json": {
       "model_id": "7304dcddc7624ec689bb713c0d357209",
       "version_major": 2,
       "version_minor": 0
      },
      "text/plain": [
       "data/train-00002-of-00006.parquet:   0%|          | 0.00/147M [00:00<?, ?B/s]"
      ]
     },
     "metadata": {},
     "output_type": "display_data"
    },
    {
     "data": {
      "application/vnd.jupyter.widget-view+json": {
       "model_id": "500185c91faa4599a61fe36697d8538c",
       "version_major": 2,
       "version_minor": 0
      },
      "text/plain": [
       "data/train-00003-of-00006.parquet:   0%|          | 0.00/147M [00:00<?, ?B/s]"
      ]
     },
     "metadata": {},
     "output_type": "display_data"
    },
    {
     "data": {
      "application/vnd.jupyter.widget-view+json": {
       "model_id": "4ea0f16e98d347b2808790705dda8a5e",
       "version_major": 2,
       "version_minor": 0
      },
      "text/plain": [
       "data/train-00004-of-00006.parquet:   0%|          | 0.00/147M [00:00<?, ?B/s]"
      ]
     },
     "metadata": {},
     "output_type": "display_data"
    },
    {
     "data": {
      "application/vnd.jupyter.widget-view+json": {
       "model_id": "11e788550b7c43418427cc89f0be5f77",
       "version_major": 2,
       "version_minor": 0
      },
      "text/plain": [
       "data/train-00005-of-00006.parquet:   0%|          | 0.00/147M [00:00<?, ?B/s]"
      ]
     },
     "metadata": {},
     "output_type": "display_data"
    },
    {
     "data": {
      "application/vnd.jupyter.widget-view+json": {
       "model_id": "fa58f83a64f147d184bc3b61f503afb6",
       "version_major": 2,
       "version_minor": 0
      },
      "text/plain": [
       "data/validation-00000-of-00001.parquet:   0%|          | 0.00/18.5M [00:00<?, ?B/s]"
      ]
     },
     "metadata": {},
     "output_type": "display_data"
    },
    {
     "data": {
      "application/vnd.jupyter.widget-view+json": {
       "model_id": "f55b45d96cef4accb508650bf494bf3b",
       "version_major": 2,
       "version_minor": 0
      },
      "text/plain": [
       "data/test-00000-of-00001.parquet:   0%|          | 0.00/18.5M [00:00<?, ?B/s]"
      ]
     },
     "metadata": {},
     "output_type": "display_data"
    },
    {
     "data": {
      "application/vnd.jupyter.widget-view+json": {
       "model_id": "eee5913257b844bcac920a5773e400d3",
       "version_major": 2,
       "version_minor": 0
      },
      "text/plain": [
       "Generating train split:   0%|          | 0/4243904 [00:00<?, ? examples/s]"
      ]
     },
     "metadata": {},
     "output_type": "display_data"
    },
    {
     "data": {
      "application/vnd.jupyter.widget-view+json": {
       "model_id": "df7c97798ab04cb5861d577468404758",
       "version_major": 2,
       "version_minor": 0
      },
      "text/plain": [
       "Generating validation split:   0%|          | 0/88415 [00:00<?, ? examples/s]"
      ]
     },
     "metadata": {},
     "output_type": "display_data"
    },
    {
     "data": {
      "application/vnd.jupyter.widget-view+json": {
       "model_id": "a0c022a61f9444458b772e9c5c73b5e7",
       "version_major": 2,
       "version_minor": 0
      },
      "text/plain": [
       "Generating test split:   0%|          | 0/88415 [00:00<?, ? examples/s]"
      ]
     },
     "metadata": {},
     "output_type": "display_data"
    }
   ],
   "source": [
    "ds = load_dataset(\"mhurhangee/ep-patent-all-claims\")\n",
    "train_ds, val_ds = ds[\"train\"], ds[\"validation\"]"
   ]
  },
  {
   "cell_type": "code",
   "execution_count": 7,
   "metadata": {
    "execution": {
     "iopub.execute_input": "2025-08-12T12:50:49.454094Z",
     "iopub.status.busy": "2025-08-12T12:50:49.453526Z",
     "iopub.status.idle": "2025-08-12T13:06:24.652113Z",
     "shell.execute_reply": "2025-08-12T13:06:24.651255Z",
     "shell.execute_reply.started": "2025-08-12T12:50:49.454070Z"
    },
    "trusted": true
   },
   "outputs": [
    {
     "data": {
      "application/vnd.jupyter.widget-view+json": {
       "model_id": "652d5c042c264c69b84d8d3f8e846313",
       "version_major": 2,
       "version_minor": 0
      },
      "text/plain": [
       "Map:   0%|          | 0/4243904 [00:00<?, ? examples/s]"
      ]
     },
     "metadata": {},
     "output_type": "display_data"
    },
    {
     "data": {
      "application/vnd.jupyter.widget-view+json": {
       "model_id": "e776ecf067a3487b91c817a62de2dc48",
       "version_major": 2,
       "version_minor": 0
      },
      "text/plain": [
       "Map:   0%|          | 0/88415 [00:00<?, ? examples/s]"
      ]
     },
     "metadata": {},
     "output_type": "display_data"
    }
   ],
   "source": [
    "seq_len = 128\n",
    "def enc(b): return tokenizer(b[\"text\"], truncation=True, max_length=seq_len)\n",
    "train_ds = train_ds.map(enc, batched=True, remove_columns=train_ds.column_names)\n",
    "val_ds   = val_ds.map(enc,   batched=True, remove_columns=val_ds.column_names)"
   ]
  },
  {
   "cell_type": "code",
   "execution_count": 43,
   "metadata": {
    "execution": {
     "iopub.execute_input": "2025-08-12T13:16:01.682732Z",
     "iopub.status.busy": "2025-08-12T13:16:01.681821Z",
     "iopub.status.idle": "2025-08-12T13:16:01.688550Z",
     "shell.execute_reply": "2025-08-12T13:16:01.687613Z",
     "shell.execute_reply.started": "2025-08-12T13:16:01.682699Z"
    },
    "trusted": true
   },
   "outputs": [
    {
     "name": "stdout",
     "output_type": "stream",
     "text": [
      "['input_ids', 'attention_mask']\n",
      "['input_ids', 'attention_mask']\n",
      "dict_keys(['input_ids', 'attention_mask'])\n"
     ]
    }
   ],
   "source": [
    "print(train_ds.column_names)   # should be ['input_ids','attention_mask'] (maybe 'token_type_ids')\n",
    "print(val_ds.column_names)\n",
    "print(train_ds[0].keys())      # verify same"
   ]
  },
  {
   "cell_type": "code",
   "execution_count": 44,
   "metadata": {
    "execution": {
     "iopub.execute_input": "2025-08-12T13:16:03.380351Z",
     "iopub.status.busy": "2025-08-12T13:16:03.379666Z",
     "iopub.status.idle": "2025-08-12T13:16:03.384496Z",
     "shell.execute_reply": "2025-08-12T13:16:03.383661Z",
     "shell.execute_reply.started": "2025-08-12T13:16:03.380316Z"
    },
    "trusted": true
   },
   "outputs": [],
   "source": [
    "collator = DataCollatorForLanguageModeling(tokenizer=tokenizer, mlm=True, mlm_probability=0.15)"
   ]
  },
  {
   "cell_type": "code",
   "execution_count": 61,
   "metadata": {
    "execution": {
     "iopub.execute_input": "2025-08-12T13:47:08.084115Z",
     "iopub.status.busy": "2025-08-12T13:47:08.083804Z",
     "iopub.status.idle": "2025-08-12T13:47:08.089715Z",
     "shell.execute_reply": "2025-08-12T13:47:08.088662Z",
     "shell.execute_reply.started": "2025-08-12T13:47:08.084096Z"
    },
    "trusted": true
   },
   "outputs": [],
   "source": [
    "SEQ_LEN = 128                 \n",
    "ARCH_MAX_POSITIONS = 514       # capacity (OK for 512 later)\n",
    "MLM_PROB = 0.15\n",
    "\n",
    "# Tiny model\n",
    "HIDDEN_SIZE, NUM_LAYERS, NUM_HEADS, INTER_SIZE = 128, 2, 2, 512\n",
    "DROPOUT = 0.1\n",
    "\n",
    "# Training knobs\n",
    "PER_DEVICE_TRAIN_BS = 512\n",
    "PER_DEVICE_EVAL_BS  = 64\n",
    "GRAD_ACCUM_STEPS    = 1        # effective batch = 32 sequences\n",
    "LEARNING_RATE       = 5e-4\n",
    "WEIGHT_DECAY        = 0.01\n",
    "WARMUP_RATIO        = 0.06\n",
    "FP16                = True\n",
    "NUM_EPOCHS          = 24\n",
    "\n",
    "# Early stopping\n",
    "PATIENCE = 3                     # evals with no improvement\n",
    "THRESH   = 1e-4                  # min improvement in eval_loss"
   ]
  },
  {
   "cell_type": "code",
   "execution_count": 62,
   "metadata": {
    "execution": {
     "iopub.execute_input": "2025-08-12T13:47:10.944440Z",
     "iopub.status.busy": "2025-08-12T13:47:10.944093Z",
     "iopub.status.idle": "2025-08-12T13:47:10.948946Z",
     "shell.execute_reply": "2025-08-12T13:47:10.947990Z",
     "shell.execute_reply.started": "2025-08-12T13:47:10.944413Z"
    },
    "trusted": true
   },
   "outputs": [],
   "source": [
    "model.gradient_checkpointing_disable()"
   ]
  },
  {
   "cell_type": "code",
   "execution_count": 63,
   "metadata": {
    "execution": {
     "iopub.execute_input": "2025-08-12T13:47:12.321908Z",
     "iopub.status.busy": "2025-08-12T13:47:12.321638Z",
     "iopub.status.idle": "2025-08-12T13:47:12.356942Z",
     "shell.execute_reply": "2025-08-12T13:47:12.356242Z",
     "shell.execute_reply.started": "2025-08-12T13:47:12.321886Z"
    },
    "trusted": true
   },
   "outputs": [],
   "source": [
    "args = TrainingArguments(\n",
    "    output_dir=\"./checkpoints\",\n",
    "    per_device_train_batch_size=PER_DEVICE_TRAIN_BS,\n",
    "    per_device_eval_batch_size=PER_DEVICE_EVAL_BS,\n",
    "    gradient_accumulation_steps=GRAD_ACCUM_STEPS,\n",
    "    learning_rate=LEARNING_RATE,\n",
    "    weight_decay=WEIGHT_DECAY,\n",
    "    warmup_ratio=WARMUP_RATIO,\n",
    "    num_train_epochs=12,\n",
    "    eval_strategy=\"epoch\",\n",
    "    save_strategy=\"epoch\",\n",
    "    save_total_limit=4,\n",
    "    logging_steps=1657,\n",
    "    fp16=FP16,\n",
    "    fp16_full_eval=True,\n",
    "    report_to=\"none\",\n",
    "    load_best_model_at_end=True,\n",
    "    metric_for_best_model=\"loss\",\n",
    "    greater_is_better=False,\n",
    "    remove_unused_columns=False,\n",
    "    # Hub pushing\n",
    "    push_to_hub=True,\n",
    "    hub_model_id=repo,\n",
    "    hub_token=hf_token,\n",
    "    hub_private_repo=False,\n",
    "    hub_strategy=\"every_save\",   # push each checkpoint on save\n",
    ")"
   ]
  },
  {
   "cell_type": "code",
   "execution_count": 64,
   "metadata": {
    "execution": {
     "iopub.execute_input": "2025-08-12T13:47:15.032448Z",
     "iopub.status.busy": "2025-08-12T13:47:15.032190Z",
     "iopub.status.idle": "2025-08-12T13:47:15.133478Z",
     "shell.execute_reply": "2025-08-12T13:47:15.132752Z",
     "shell.execute_reply.started": "2025-08-12T13:47:15.032428Z"
    },
    "trusted": true
   },
   "outputs": [],
   "source": [
    "trainer = Trainer(\n",
    "    model=model,\n",
    "    args=args,\n",
    "    train_dataset=train_ds,\n",
    "    eval_dataset=val_ds,\n",
    "    processing_class=tokenizer,\n",
    "    data_collator=collator,\n",
    "\n",
    ")"
   ]
  },
  {
   "cell_type": "code",
   "execution_count": 37,
   "metadata": {
    "execution": {
     "iopub.execute_input": "2025-08-12T13:15:37.202012Z",
     "iopub.status.busy": "2025-08-12T13:15:37.201743Z",
     "iopub.status.idle": "2025-08-12T13:15:37.727999Z",
     "shell.execute_reply": "2025-08-12T13:15:37.727319Z",
     "shell.execute_reply.started": "2025-08-12T13:15:37.201995Z"
    },
    "trusted": true
   },
   "outputs": [],
   "source": [
    "# 1) Hard-clear GPU without touching your datasets\n",
    "import os, gc, torch\n",
    "os.environ[\"PYTORCH_CUDA_ALLOC_CONF\"] = \"expandable_segments:True\"\n",
    "for name in (\"trainer\",\"model\"):\n",
    "    if name in globals(): del globals()[name]\n",
    "gc.collect(); torch.cuda.empty_cache(); \n",
    "if hasattr(torch.cuda, \"ipc_collect\"): torch.cuda.ipc_collect()"
   ]
  },
  {
   "cell_type": "code",
   "execution_count": null,
   "metadata": {
    "trusted": true
   },
   "outputs": [],
   "source": []
  },
  {
   "cell_type": "code",
   "execution_count": 80,
   "metadata": {
    "execution": {
     "iopub.execute_input": "2025-08-12T05:35:05.282329Z",
     "iopub.status.busy": "2025-08-12T05:35:05.281629Z",
     "iopub.status.idle": "2025-08-12T11:59:24.188587Z",
     "shell.execute_reply": "2025-08-12T11:59:24.187737Z",
     "shell.execute_reply.started": "2025-08-12T05:35:05.282296Z"
    },
    "trusted": true
   },
   "outputs": [
    {
     "name": "stderr",
     "output_type": "stream",
     "text": [
      "/usr/local/lib/python3.11/dist-packages/torch/nn/parallel/_functions.py:70: UserWarning: Was asked to gather along dimension 0, but all input tensors were scalars; will instead unsqueeze and return a vector.\n",
      "  warnings.warn(\n"
     ]
    },
    {
     "data": {
      "text/html": [
       "\n",
       "    <div>\n",
       "      \n",
       "      <progress value='33160' max='33160' style='width:300px; height:20px; vertical-align: middle;'></progress>\n",
       "      [33160/33160 6:24:14, Epoch 8/8]\n",
       "    </div>\n",
       "    <table border=\"1\" class=\"dataframe\">\n",
       "  <thead>\n",
       " <tr style=\"text-align: left;\">\n",
       "      <th>Step</th>\n",
       "      <th>Training Loss</th>\n",
       "      <th>Validation Loss</th>\n",
       "    </tr>\n",
       "  </thead>\n",
       "  <tbody>\n",
       "    <tr>\n",
       "      <td>3315</td>\n",
       "      <td>2.229400</td>\n",
       "      <td>1.956403</td>\n",
       "    </tr>\n",
       "    <tr>\n",
       "      <td>6630</td>\n",
       "      <td>2.173700</td>\n",
       "      <td>1.902118</td>\n",
       "    </tr>\n",
       "    <tr>\n",
       "      <td>9945</td>\n",
       "      <td>2.134500</td>\n",
       "      <td>1.867756</td>\n",
       "    </tr>\n",
       "    <tr>\n",
       "      <td>13260</td>\n",
       "      <td>2.110400</td>\n",
       "      <td>1.843583</td>\n",
       "    </tr>\n",
       "    <tr>\n",
       "      <td>16575</td>\n",
       "      <td>2.091000</td>\n",
       "      <td>1.826831</td>\n",
       "    </tr>\n",
       "    <tr>\n",
       "      <td>19890</td>\n",
       "      <td>2.077900</td>\n",
       "      <td>1.812651</td>\n",
       "    </tr>\n",
       "    <tr>\n",
       "      <td>23205</td>\n",
       "      <td>2.064700</td>\n",
       "      <td>1.803954</td>\n",
       "    </tr>\n",
       "    <tr>\n",
       "      <td>26520</td>\n",
       "      <td>2.055800</td>\n",
       "      <td>1.790961</td>\n",
       "    </tr>\n",
       "    <tr>\n",
       "      <td>29835</td>\n",
       "      <td>2.049400</td>\n",
       "      <td>1.786600</td>\n",
       "    </tr>\n",
       "    <tr>\n",
       "      <td>33150</td>\n",
       "      <td>2.043800</td>\n",
       "      <td>1.779748</td>\n",
       "    </tr>\n",
       "  </tbody>\n",
       "</table><p>"
      ],
      "text/plain": [
       "<IPython.core.display.HTML object>"
      ]
     },
     "metadata": {},
     "output_type": "display_data"
    },
    {
     "name": "stderr",
     "output_type": "stream",
     "text": [
      "/usr/local/lib/python3.11/dist-packages/torch/nn/parallel/_functions.py:70: UserWarning: Was asked to gather along dimension 0, but all input tensors were scalars; will instead unsqueeze and return a vector.\n",
      "  warnings.warn(\n",
      "/usr/local/lib/python3.11/dist-packages/torch/nn/parallel/_functions.py:70: UserWarning: Was asked to gather along dimension 0, but all input tensors were scalars; will instead unsqueeze and return a vector.\n",
      "  warnings.warn(\n",
      "/usr/local/lib/python3.11/dist-packages/torch/nn/parallel/_functions.py:70: UserWarning: Was asked to gather along dimension 0, but all input tensors were scalars; will instead unsqueeze and return a vector.\n",
      "  warnings.warn(\n",
      "/usr/local/lib/python3.11/dist-packages/torch/nn/parallel/_functions.py:70: UserWarning: Was asked to gather along dimension 0, but all input tensors were scalars; will instead unsqueeze and return a vector.\n",
      "  warnings.warn(\n",
      "/usr/local/lib/python3.11/dist-packages/torch/nn/parallel/_functions.py:70: UserWarning: Was asked to gather along dimension 0, but all input tensors were scalars; will instead unsqueeze and return a vector.\n",
      "  warnings.warn(\n",
      "/usr/local/lib/python3.11/dist-packages/torch/nn/parallel/_functions.py:70: UserWarning: Was asked to gather along dimension 0, but all input tensors were scalars; will instead unsqueeze and return a vector.\n",
      "  warnings.warn(\n",
      "/usr/local/lib/python3.11/dist-packages/torch/nn/parallel/_functions.py:70: UserWarning: Was asked to gather along dimension 0, but all input tensors were scalars; will instead unsqueeze and return a vector.\n",
      "  warnings.warn(\n",
      "/usr/local/lib/python3.11/dist-packages/torch/nn/parallel/_functions.py:70: UserWarning: Was asked to gather along dimension 0, but all input tensors were scalars; will instead unsqueeze and return a vector.\n",
      "  warnings.warn(\n",
      "/usr/local/lib/python3.11/dist-packages/torch/nn/parallel/_functions.py:70: UserWarning: Was asked to gather along dimension 0, but all input tensors were scalars; will instead unsqueeze and return a vector.\n",
      "  warnings.warn(\n",
      "/usr/local/lib/python3.11/dist-packages/torch/nn/parallel/_functions.py:70: UserWarning: Was asked to gather along dimension 0, but all input tensors were scalars; will instead unsqueeze and return a vector.\n",
      "  warnings.warn(\n",
      "There were missing keys in the checkpoint model loaded: ['lm_head.decoder.weight', 'lm_head.decoder.bias'].\n"
     ]
    },
    {
     "data": {
      "text/plain": [
       "TrainOutput(global_step=33160, training_loss=2.108681117035943, metrics={'train_runtime': 23056.2627, 'train_samples_per_second': 1472.538, 'train_steps_per_second': 1.438, 'total_flos': 1.0992194282323968e+16, 'train_loss': 2.108681117035943, 'epoch': 8.0})"
      ]
     },
     "execution_count": 80,
     "metadata": {},
     "output_type": "execute_result"
    }
   ],
   "source": [
    "trainer.train()"
   ]
  },
  {
   "cell_type": "code",
   "execution_count": null,
   "metadata": {
    "trusted": true
   },
   "outputs": [],
   "source": [
    "out = trainer.evaluate()\n",
    "import math as _m\n",
    "print(out, \"Perplexity:\", _m.exp(out[\"eval_loss\"]))"
   ]
  },
  {
   "cell_type": "code",
   "execution_count": 82,
   "metadata": {
    "execution": {
     "iopub.execute_input": "2025-08-12T12:12:53.845787Z",
     "iopub.status.busy": "2025-08-12T12:12:53.845435Z",
     "iopub.status.idle": "2025-08-12T12:12:57.359939Z",
     "shell.execute_reply": "2025-08-12T12:12:57.359106Z",
     "shell.execute_reply.started": "2025-08-12T12:12:53.845761Z"
    },
    "trusted": true
   },
   "outputs": [
    {
     "data": {
      "application/vnd.jupyter.widget-view+json": {
       "model_id": "f4bb644f3e7e48e794231dfaa040b7fe",
       "version_major": 2,
       "version_minor": 0
      },
      "text/plain": [
       "Processing Files (0 / 0)                : |          |  0.00B /  0.00B            "
      ]
     },
     "metadata": {},
     "output_type": "display_data"
    },
    {
     "data": {
      "application/vnd.jupyter.widget-view+json": {
       "model_id": "fcd6af5315f04d6eab9d04e090be0e13",
       "version_major": 2,
       "version_minor": 0
      },
      "text/plain": [
       "New Data Upload                         : |          |  0.00B /  0.00B            "
      ]
     },
     "metadata": {},
     "output_type": "display_data"
    },
    {
     "data": {
      "application/vnd.jupyter.widget-view+json": {
       "model_id": "ba9203b0e36b4754afa43d32d87559a7",
       "version_major": 2,
       "version_minor": 0
      },
      "text/plain": [
       "  ...rking/checkpoints/training_args.bin: 100%|##########| 5.37kB / 5.37kB            "
      ]
     },
     "metadata": {},
     "output_type": "display_data"
    },
    {
     "data": {
      "application/vnd.jupyter.widget-view+json": {
       "model_id": "4ea10181b7e7415f98c4af61ebb58c3f",
       "version_major": 2,
       "version_minor": 0
      },
      "text/plain": [
       "  ...rking/checkpoints/model.safetensors: 100%|##########| 6.05MB / 6.05MB            "
      ]
     },
     "metadata": {},
     "output_type": "display_data"
    },
    {
     "data": {
      "application/vnd.jupyter.widget-view+json": {
       "model_id": "cd4c970e412147d189f6ab5aad14de02",
       "version_major": 2,
       "version_minor": 0
      },
      "text/plain": [
       "Processing Files (0 / 0)                : |          |  0.00B /  0.00B            "
      ]
     },
     "metadata": {},
     "output_type": "display_data"
    },
    {
     "data": {
      "application/vnd.jupyter.widget-view+json": {
       "model_id": "c4e17c4253574258bc0c700a26e482e7",
       "version_major": 2,
       "version_minor": 0
      },
      "text/plain": [
       "New Data Upload                         : |          |  0.00B /  0.00B            "
      ]
     },
     "metadata": {},
     "output_type": "display_data"
    },
    {
     "data": {
      "application/vnd.jupyter.widget-view+json": {
       "model_id": "6fd45690dc584fb6817443f38da9b8da",
       "version_major": 2,
       "version_minor": 0
      },
      "text/plain": [
       "  ...rking/checkpoints/training_args.bin: 100%|##########| 5.37kB / 5.37kB            "
      ]
     },
     "metadata": {},
     "output_type": "display_data"
    },
    {
     "data": {
      "application/vnd.jupyter.widget-view+json": {
       "model_id": "14e8260659a44fb694abef97312f4889",
       "version_major": 2,
       "version_minor": 0
      },
      "text/plain": [
       "  ...rking/checkpoints/model.safetensors: 100%|##########| 6.05MB / 6.05MB            "
      ]
     },
     "metadata": {},
     "output_type": "display_data"
    },
    {
     "name": "stderr",
     "output_type": "stream",
     "text": [
      "No files have been modified since last commit. Skipping to prevent empty commit.\n"
     ]
    },
    {
     "data": {
      "text/plain": [
       "CommitInfo(commit_url='https://huggingface.co/mhurhangee/patroberta-mlm-sl128-v8000/commit/a3b25838b8711c13fab842e146232dc69c2a0e1f', commit_message='End of training', commit_description='', oid='a3b25838b8711c13fab842e146232dc69c2a0e1f', pr_url=None, repo_url=RepoUrl('https://huggingface.co/mhurhangee/patroberta-mlm-sl128-v8000', endpoint='https://huggingface.co', repo_type='model', repo_id='mhurhangee/patroberta-mlm-sl128-v8000'), pr_revision=None, pr_num=None)"
      ]
     },
     "execution_count": 82,
     "metadata": {},
     "output_type": "execute_result"
    }
   ],
   "source": [
    "trainer.save_model()                 # saves config.json + model.safetensors\n",
    "tokenizer.save_pretrained(args.output_dir)\n",
    "trainer.push_to_hub()                # one final commit"
   ]
  },
  {
   "cell_type": "code",
   "execution_count": null,
   "metadata": {
    "execution": {
     "iopub.execute_input": "2025-08-12T13:47:21.602519Z",
     "iopub.status.busy": "2025-08-12T13:47:21.601936Z"
    },
    "trusted": true
   },
   "outputs": [
    {
     "name": "stderr",
     "output_type": "stream",
     "text": [
      "You are resuming training from a checkpoint trained with 4.55.0 of Transformers but your current version is 4.52.4. This is not recommended and could yield to errors or unwanted behaviors.\n",
      "There were missing keys in the checkpoint model loaded: ['lm_head.decoder.weight', 'lm_head.decoder.bias'].\n",
      "Warning: The following arguments do not match the ones in the `trainer_state.json` within the checkpoint directory: \n",
      "\tsave_steps: 500 (from args) != 3315 (from trainer_state.json)\n",
      "/usr/local/lib/python3.11/dist-packages/torch/nn/parallel/_functions.py:70: UserWarning: Was asked to gather along dimension 0, but all input tensors were scalars; will instead unsqueeze and return a vector.\n",
      "  warnings.warn(\n"
     ]
    },
    {
     "data": {
      "text/html": [
       "\n",
       "    <div>\n",
       "      \n",
       "      <progress value='35862' max='49740' style='width:300px; height:20px; vertical-align: middle;'></progress>\n",
       "      [35862/49740 1:58:02 < 10:06:43, 0.38 it/s, Epoch 8.65/12]\n",
       "    </div>\n",
       "    <table border=\"1\" class=\"dataframe\">\n",
       "  <thead>\n",
       " <tr style=\"text-align: left;\">\n",
       "      <th>Epoch</th>\n",
       "      <th>Training Loss</th>\n",
       "      <th>Validation Loss</th>\n",
       "    </tr>\n",
       "  </thead>\n",
       "  <tbody>\n",
       "  </tbody>\n",
       "</table><p>"
      ],
      "text/plain": [
       "<IPython.core.display.HTML object>"
      ]
     },
     "metadata": {},
     "output_type": "display_data"
    }
   ],
   "source": [
    "trainer.train(resume_from_checkpoint=resume_ckpt)\n"
   ]
  },
  {
   "cell_type": "code",
   "execution_count": null,
   "metadata": {
    "trusted": true
   },
   "outputs": [],
   "source": []
  },
  {
   "cell_type": "code",
   "execution_count": null,
   "metadata": {
    "trusted": true
   },
   "outputs": [],
   "source": []
  },
  {
   "cell_type": "code",
   "execution_count": 83,
   "metadata": {
    "execution": {
     "iopub.execute_input": "2025-08-12T12:14:14.207981Z",
     "iopub.status.busy": "2025-08-12T12:14:14.207292Z",
     "iopub.status.idle": "2025-08-12T12:14:14.414586Z",
     "shell.execute_reply": "2025-08-12T12:14:14.413527Z",
     "shell.execute_reply.started": "2025-08-12T12:14:14.207958Z"
    },
    "trusted": true
   },
   "outputs": [
    {
     "name": "stdout",
     "output_type": "stream",
     "text": [
      "-rw-r--r-- 1 root root  12M Aug 12 10:42 checkpoints/checkpoint-26520/optimizer.pt\n",
      "-rw-r--r-- 1 root root 1.1K Aug 12 10:42 checkpoints/checkpoint-26520/scheduler.pt\n",
      "-rw-r--r-- 1 root root  12M Aug 12 11:20 checkpoints/checkpoint-29835/optimizer.pt\n",
      "-rw-r--r-- 1 root root 1.1K Aug 12 11:20 checkpoints/checkpoint-29835/scheduler.pt\n",
      "-rw-r--r-- 1 root root  12M Aug 12 11:59 checkpoints/checkpoint-33150/optimizer.pt\n",
      "-rw-r--r-- 1 root root 1.1K Aug 12 11:59 checkpoints/checkpoint-33150/scheduler.pt\n",
      "-rw-r--r-- 1 root root  12M Aug 12 11:59 checkpoints/checkpoint-33160/optimizer.pt\n",
      "-rw-r--r-- 1 root root 1.1K Aug 12 11:59 checkpoints/checkpoint-33160/scheduler.pt\n"
     ]
    },
    {
     "name": "stderr",
     "output_type": "stream",
     "text": [
      "huggingface/tokenizers: The current process just got forked, after parallelism has already been used. Disabling parallelism to avoid deadlocks...\n",
      "To disable this warning, you can either:\n",
      "\t- Avoid using `tokenizers` before the fork if possible\n",
      "\t- Explicitly set the environment variable TOKENIZERS_PARALLELISM=(true | false)\n"
     ]
    }
   ],
   "source": [
    "trainer.train(resume_from_checkpoint=resume_ckpt)\n"
   ]
  }
 ],
 "metadata": {
  "kaggle": {
   "accelerator": "nvidiaTeslaT4",
   "dataSources": [],
   "dockerImageVersionId": 31090,
   "isGpuEnabled": true,
   "isInternetEnabled": true,
   "language": "python",
   "sourceType": "notebook"
  },
  "kernelspec": {
   "display_name": "Python 3",
   "language": "python",
   "name": "python3"
  },
  "language_info": {
   "codemirror_mode": {
    "name": "ipython",
    "version": 3
   },
   "file_extension": ".py",
   "mimetype": "text/x-python",
   "name": "python",
   "nbconvert_exporter": "python",
   "pygments_lexer": "ipython3",
   "version": "3.11.13"
  }
 },
 "nbformat": 4,
 "nbformat_minor": 4
}
