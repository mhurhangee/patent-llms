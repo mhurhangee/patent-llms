{
 "cells": [
  {
   "cell_type": "markdown",
   "id": "99488d3f",
   "metadata": {},
   "source": [
    "# Upload Corpus to HF"
   ]
  },
  {
   "cell_type": "code",
   "execution_count": 1,
   "id": "ac3d01e0",
   "metadata": {},
   "outputs": [],
   "source": [
    "import os\n",
    "from datasets import load_dataset, DatasetDict\n",
    "from huggingface_hub import create_repo, HfApi"
   ]
  },
  {
   "cell_type": "code",
   "execution_count": 3,
   "id": "d7bcc3ad",
   "metadata": {},
   "outputs": [],
   "source": [
    "# ==== CONSTANTS ====\n",
    "INPUT_FILE   = \"../data/1-corpus-all-claims/corpus.txt\"\n",
    "SEED         = 42\n",
    "\n",
    "# split fractions\n",
    "TRAIN_SPLIT  = 0.96\n",
    "VAL_SPLIT    = 0.02\n",
    "TEST_SPLIT   = 0.02\n",
    "assert abs(TRAIN_SPLIT + VAL_SPLIT + TEST_SPLIT - 1.0) < 1e-8\n",
    "\n",
    "# Hugging Face Hub\n",
    "REPO_ID      = \"mhurhangee/ep-patent-all-claims\"\n",
    "PRIVATE      = True\n",
    "HF_TOKEN     = os.getenv(\"HF_TOKEN\")  # load from .env or set manually\n",
    "\n",
    "# README dataset card content\n",
    "README = f\"\"\"---\n",
    "license: cc-by-4.0\n",
    "language:\n",
    "- en\n",
    "tags:\n",
    "- patents\n",
    "- claims\n",
    "- legal\n",
    "- gpt-training\n",
    "---\n",
    "\n",
    "# Patent All Claims\n",
    "\n",
    "EP granted claim sets (indepdendent and dependent claims). One claim per line. Claims from 20210915-20250806 \n",
    "\n",
    "## Splits\n",
    "- Train: {int(TRAIN_SPLIT*100)}%\n",
    "- Validation: {int(VAL_SPLIT*100)}%\n",
    "- Test: {int(TEST_SPLIT*100)}%\n",
    "\n",
    "## Usage\n",
    "```python\n",
    "from datasets import load_dataset\n",
    "ds = load_dataset(\"{REPO_ID}\")\n",
    "```\n",
    "\"\"\""
   ]
  },
  {
   "cell_type": "code",
   "execution_count": 4,
   "id": "838107fb",
   "metadata": {},
   "outputs": [
    {
     "data": {
      "application/vnd.jupyter.widget-view+json": {
       "model_id": "8af2ddc8f08b4eae89d9385301dc2649",
       "version_major": 2,
       "version_minor": 0
      },
      "text/plain": [
       "Generating train split: 0 examples [00:00, ? examples/s]"
      ]
     },
     "metadata": {},
     "output_type": "display_data"
    }
   ],
   "source": [
    "raw = load_dataset(\"text\", data_files=INPUT_FILE, split=\"train\")\n",
    "raw = raw.shuffle(seed=SEED)"
   ]
  },
  {
   "cell_type": "code",
   "execution_count": 5,
   "id": "e6155584",
   "metadata": {},
   "outputs": [
    {
     "name": "stdout",
     "output_type": "stream",
     "text": [
      "{'train': 4243904, 'validation': 88415, 'test': 88415}\n"
     ]
    }
   ],
   "source": [
    "tmp = raw.train_test_split(test_size=TEST_SPLIT, seed=SEED, shuffle=True)\n",
    "rest, test = tmp[\"train\"], tmp[\"test\"]\n",
    "\n",
    "val_frac_of_rest = VAL_SPLIT / (TRAIN_SPLIT + VAL_SPLIT)\n",
    "tmp2 = rest.train_test_split(test_size=val_frac_of_rest, seed=SEED, shuffle=True)\n",
    "train, val = tmp2[\"train\"], tmp2[\"test\"]\n",
    "\n",
    "ds = DatasetDict({\"train\": train, \"validation\": val, \"test\": test})\n",
    "print({k: len(v) for k, v in ds.items()})"
   ]
  },
  {
   "cell_type": "code",
   "execution_count": 6,
   "id": "f8a236df",
   "metadata": {},
   "outputs": [
    {
     "data": {
      "application/vnd.jupyter.widget-view+json": {
       "model_id": "6c05b9c5a94a44898a2308924fa25560",
       "version_major": 2,
       "version_minor": 0
      },
      "text/plain": [
       "Uploading the dataset shards:   0%|          | 0/6 [00:00<?, ? shards/s]"
      ]
     },
     "metadata": {},
     "output_type": "display_data"
    },
    {
     "data": {
      "application/vnd.jupyter.widget-view+json": {
       "model_id": "b9f1dcbc4ec44d86a1a87727fea8f0cd",
       "version_major": 2,
       "version_minor": 0
      },
      "text/plain": [
       "Creating parquet from Arrow format:   0%|          | 0/708 [00:00<?, ?ba/s]"
      ]
     },
     "metadata": {},
     "output_type": "display_data"
    },
    {
     "data": {
      "application/vnd.jupyter.widget-view+json": {
       "model_id": "8625d9e6ac4b4427ac668d2e14c72d47",
       "version_major": 2,
       "version_minor": 0
      },
      "text/plain": [
       "Processing Files (0 / 0)                : |          |  0.00B /  0.00B            "
      ]
     },
     "metadata": {},
     "output_type": "display_data"
    },
    {
     "data": {
      "application/vnd.jupyter.widget-view+json": {
       "model_id": "4e87b4554c39449fb060add2fd17bc86",
       "version_major": 2,
       "version_minor": 0
      },
      "text/plain": [
       "New Data Upload                         : |          |  0.00B /  0.00B            "
      ]
     },
     "metadata": {},
     "output_type": "display_data"
    },
    {
     "data": {
      "application/vnd.jupyter.widget-view+json": {
       "model_id": "f05854fa07f046bc82be933a33044c47",
       "version_major": 2,
       "version_minor": 0
      },
      "text/plain": [
       "                                        :   0%|          |  533kB /  147MB            "
      ]
     },
     "metadata": {},
     "output_type": "display_data"
    },
    {
     "data": {
      "application/vnd.jupyter.widget-view+json": {
       "model_id": "516bcf98557a49a5bec9af946011c2a5",
       "version_major": 2,
       "version_minor": 0
      },
      "text/plain": [
       "Creating parquet from Arrow format:   0%|          | 0/708 [00:00<?, ?ba/s]"
      ]
     },
     "metadata": {},
     "output_type": "display_data"
    },
    {
     "data": {
      "application/vnd.jupyter.widget-view+json": {
       "model_id": "c1a38727c83048a68b7377af35bcd2c1",
       "version_major": 2,
       "version_minor": 0
      },
      "text/plain": [
       "Processing Files (0 / 0)                : |          |  0.00B /  0.00B            "
      ]
     },
     "metadata": {},
     "output_type": "display_data"
    },
    {
     "data": {
      "application/vnd.jupyter.widget-view+json": {
       "model_id": "38f4bd50b993429f87ea6e6906d328fc",
       "version_major": 2,
       "version_minor": 0
      },
      "text/plain": [
       "New Data Upload                         : |          |  0.00B /  0.00B            "
      ]
     },
     "metadata": {},
     "output_type": "display_data"
    },
    {
     "data": {
      "application/vnd.jupyter.widget-view+json": {
       "model_id": "9583f268f5e74306a7dff46dbe5bfbc8",
       "version_major": 2,
       "version_minor": 0
      },
      "text/plain": [
       "                                        :   0%|          |  533kB /  147MB            "
      ]
     },
     "metadata": {},
     "output_type": "display_data"
    },
    {
     "data": {
      "application/vnd.jupyter.widget-view+json": {
       "model_id": "a11fb4a5e72c457c8dfa03a923c5f07a",
       "version_major": 2,
       "version_minor": 0
      },
      "text/plain": [
       "Creating parquet from Arrow format:   0%|          | 0/708 [00:00<?, ?ba/s]"
      ]
     },
     "metadata": {},
     "output_type": "display_data"
    },
    {
     "data": {
      "application/vnd.jupyter.widget-view+json": {
       "model_id": "667b8ebaf9ea4e5b8a1179ee679016b6",
       "version_major": 2,
       "version_minor": 0
      },
      "text/plain": [
       "Processing Files (0 / 0)                : |          |  0.00B /  0.00B            "
      ]
     },
     "metadata": {},
     "output_type": "display_data"
    },
    {
     "data": {
      "application/vnd.jupyter.widget-view+json": {
       "model_id": "a006d08703144447a9d2ca35a4168f87",
       "version_major": 2,
       "version_minor": 0
      },
      "text/plain": [
       "New Data Upload                         : |          |  0.00B /  0.00B            "
      ]
     },
     "metadata": {},
     "output_type": "display_data"
    },
    {
     "data": {
      "application/vnd.jupyter.widget-view+json": {
       "model_id": "496c3878eb004a5786a18e99b0065502",
       "version_major": 2,
       "version_minor": 0
      },
      "text/plain": [
       "                                        :   0%|          |  533kB /  147MB            "
      ]
     },
     "metadata": {},
     "output_type": "display_data"
    },
    {
     "data": {
      "application/vnd.jupyter.widget-view+json": {
       "model_id": "e8b353a862f24ab2a00e94d87550f89a",
       "version_major": 2,
       "version_minor": 0
      },
      "text/plain": [
       "Creating parquet from Arrow format:   0%|          | 0/708 [00:00<?, ?ba/s]"
      ]
     },
     "metadata": {},
     "output_type": "display_data"
    },
    {
     "data": {
      "application/vnd.jupyter.widget-view+json": {
       "model_id": "eeada0abc1f54582b54db93d8dbb6353",
       "version_major": 2,
       "version_minor": 0
      },
      "text/plain": [
       "Processing Files (0 / 0)                : |          |  0.00B /  0.00B            "
      ]
     },
     "metadata": {},
     "output_type": "display_data"
    },
    {
     "data": {
      "application/vnd.jupyter.widget-view+json": {
       "model_id": "ad62a6337dc54221b26fe3772e7f05e9",
       "version_major": 2,
       "version_minor": 0
      },
      "text/plain": [
       "New Data Upload                         : |          |  0.00B /  0.00B            "
      ]
     },
     "metadata": {},
     "output_type": "display_data"
    },
    {
     "data": {
      "application/vnd.jupyter.widget-view+json": {
       "model_id": "e0c345d7ddf5410d98239c4a3866f1ce",
       "version_major": 2,
       "version_minor": 0
      },
      "text/plain": [
       "                                        :   0%|          |  533kB /  147MB            "
      ]
     },
     "metadata": {},
     "output_type": "display_data"
    },
    {
     "data": {
      "application/vnd.jupyter.widget-view+json": {
       "model_id": "1110155ce7114bbeaa3dee255fd12314",
       "version_major": 2,
       "version_minor": 0
      },
      "text/plain": [
       "Creating parquet from Arrow format:   0%|          | 0/708 [00:00<?, ?ba/s]"
      ]
     },
     "metadata": {},
     "output_type": "display_data"
    },
    {
     "data": {
      "application/vnd.jupyter.widget-view+json": {
       "model_id": "3396e900515c470bac07f28898cc81a9",
       "version_major": 2,
       "version_minor": 0
      },
      "text/plain": [
       "Processing Files (0 / 0)                : |          |  0.00B /  0.00B            "
      ]
     },
     "metadata": {},
     "output_type": "display_data"
    },
    {
     "data": {
      "application/vnd.jupyter.widget-view+json": {
       "model_id": "1ef0fd2a6c7948ae99bcd028a012b3af",
       "version_major": 2,
       "version_minor": 0
      },
      "text/plain": [
       "New Data Upload                         : |          |  0.00B /  0.00B            "
      ]
     },
     "metadata": {},
     "output_type": "display_data"
    },
    {
     "data": {
      "application/vnd.jupyter.widget-view+json": {
       "model_id": "e1362287f24b4e1c86c97bb732b8e16f",
       "version_major": 2,
       "version_minor": 0
      },
      "text/plain": [
       "                                        :   0%|          |  533kB /  147MB            "
      ]
     },
     "metadata": {},
     "output_type": "display_data"
    },
    {
     "data": {
      "application/vnd.jupyter.widget-view+json": {
       "model_id": "abde1f0c70254dbf89072a28e7dc17b0",
       "version_major": 2,
       "version_minor": 0
      },
      "text/plain": [
       "Creating parquet from Arrow format:   0%|          | 0/708 [00:00<?, ?ba/s]"
      ]
     },
     "metadata": {},
     "output_type": "display_data"
    },
    {
     "data": {
      "application/vnd.jupyter.widget-view+json": {
       "model_id": "54da989af72247bea0e29f7519e39d5c",
       "version_major": 2,
       "version_minor": 0
      },
      "text/plain": [
       "Processing Files (0 / 0)                : |          |  0.00B /  0.00B            "
      ]
     },
     "metadata": {},
     "output_type": "display_data"
    },
    {
     "data": {
      "application/vnd.jupyter.widget-view+json": {
       "model_id": "da8bb41ec22843198baf1af936c61d6a",
       "version_major": 2,
       "version_minor": 0
      },
      "text/plain": [
       "New Data Upload                         : |          |  0.00B /  0.00B            "
      ]
     },
     "metadata": {},
     "output_type": "display_data"
    },
    {
     "data": {
      "application/vnd.jupyter.widget-view+json": {
       "model_id": "952305dd59d4499facf21abcbef3a0f4",
       "version_major": 2,
       "version_minor": 0
      },
      "text/plain": [
       "                                        :   0%|          |  533kB /  147MB            "
      ]
     },
     "metadata": {},
     "output_type": "display_data"
    },
    {
     "data": {
      "application/vnd.jupyter.widget-view+json": {
       "model_id": "26657aaeb61b452680a409e345022b78",
       "version_major": 2,
       "version_minor": 0
      },
      "text/plain": [
       "Uploading the dataset shards:   0%|          | 0/1 [00:00<?, ? shards/s]"
      ]
     },
     "metadata": {},
     "output_type": "display_data"
    },
    {
     "data": {
      "application/vnd.jupyter.widget-view+json": {
       "model_id": "55f728f76d8e4b799eed7e15d5bc7562",
       "version_major": 2,
       "version_minor": 0
      },
      "text/plain": [
       "Creating parquet from Arrow format:   0%|          | 0/89 [00:00<?, ?ba/s]"
      ]
     },
     "metadata": {},
     "output_type": "display_data"
    },
    {
     "data": {
      "application/vnd.jupyter.widget-view+json": {
       "model_id": "56d9db52837b4f92b4a2e5a9088f3f82",
       "version_major": 2,
       "version_minor": 0
      },
      "text/plain": [
       "Processing Files (0 / 0)                : |          |  0.00B /  0.00B            "
      ]
     },
     "metadata": {},
     "output_type": "display_data"
    },
    {
     "data": {
      "application/vnd.jupyter.widget-view+json": {
       "model_id": "351ccc74093f4de7ae978e6eada74bd0",
       "version_major": 2,
       "version_minor": 0
      },
      "text/plain": [
       "New Data Upload                         : |          |  0.00B /  0.00B            "
      ]
     },
     "metadata": {},
     "output_type": "display_data"
    },
    {
     "data": {
      "application/vnd.jupyter.widget-view+json": {
       "model_id": "8f60147cd5104abfae8657818f7ce10d",
       "version_major": 2,
       "version_minor": 0
      },
      "text/plain": [
       "                                        :   3%|2         |  535kB / 18.5MB            "
      ]
     },
     "metadata": {},
     "output_type": "display_data"
    },
    {
     "data": {
      "application/vnd.jupyter.widget-view+json": {
       "model_id": "6347371770b14618bc5bbd0ddebd6d3b",
       "version_major": 2,
       "version_minor": 0
      },
      "text/plain": [
       "Uploading the dataset shards:   0%|          | 0/1 [00:00<?, ? shards/s]"
      ]
     },
     "metadata": {},
     "output_type": "display_data"
    },
    {
     "data": {
      "application/vnd.jupyter.widget-view+json": {
       "model_id": "611759c97c6a4d3db20255b008845d2b",
       "version_major": 2,
       "version_minor": 0
      },
      "text/plain": [
       "Creating parquet from Arrow format:   0%|          | 0/89 [00:00<?, ?ba/s]"
      ]
     },
     "metadata": {},
     "output_type": "display_data"
    },
    {
     "data": {
      "application/vnd.jupyter.widget-view+json": {
       "model_id": "b951f6cdc7884923b1090abc758db3c9",
       "version_major": 2,
       "version_minor": 0
      },
      "text/plain": [
       "Processing Files (0 / 0)                : |          |  0.00B /  0.00B            "
      ]
     },
     "metadata": {},
     "output_type": "display_data"
    },
    {
     "data": {
      "application/vnd.jupyter.widget-view+json": {
       "model_id": "693bac9efa0f4c7b986cfc1314ecfdae",
       "version_major": 2,
       "version_minor": 0
      },
      "text/plain": [
       "New Data Upload                         : |          |  0.00B /  0.00B            "
      ]
     },
     "metadata": {},
     "output_type": "display_data"
    },
    {
     "data": {
      "application/vnd.jupyter.widget-view+json": {
       "model_id": "436a92c7e6cb47739e98808165cdb7e7",
       "version_major": 2,
       "version_minor": 0
      },
      "text/plain": [
       "                                        :   3%|2         |  535kB / 18.5MB            "
      ]
     },
     "metadata": {},
     "output_type": "display_data"
    },
    {
     "name": "stdout",
     "output_type": "stream",
     "text": [
      "Pushed to https://huggingface.co/datasets/mhurhangee/ep-patent-all-claims\n"
     ]
    }
   ],
   "source": [
    "create_repo(REPO_ID, repo_type=\"dataset\", private=PRIVATE, exist_ok=True, token=HF_TOKEN)\n",
    "ds.push_to_hub(REPO_ID, token=HF_TOKEN)\n",
    "HfApi(token=HF_TOKEN).upload_file(\n",
    "path_or_fileobj=README.encode(\"utf-8\"),\n",
    "path_in_repo=\"README.md\",\n",
    "repo_id=REPO_ID,\n",
    "repo_type=\"dataset\"\n",
    ")\n",
    "print(f\"Pushed to https://huggingface.co/datasets/{REPO_ID}\")"
   ]
  }
 ],
 "metadata": {
  "kernelspec": {
   "display_name": "patent-llms",
   "language": "python",
   "name": "python3"
  },
  "language_info": {
   "codemirror_mode": {
    "name": "ipython",
    "version": 3
   },
   "file_extension": ".py",
   "mimetype": "text/x-python",
   "name": "python",
   "nbconvert_exporter": "python",
   "pygments_lexer": "ipython3",
   "version": "3.11.11"
  }
 },
 "nbformat": 4,
 "nbformat_minor": 5
}
