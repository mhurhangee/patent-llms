{
 "cells": [
  {
   "cell_type": "markdown",
   "id": "f68cd11f",
   "metadata": {},
   "source": [
    "# Process JSONL Claims to .txt for as training corpus"
   ]
  },
  {
   "cell_type": "code",
   "execution_count": null,
   "id": "22e858cb",
   "metadata": {},
   "outputs": [],
   "source": [
    "INPUT_FOLDER = \"../data\"\n",
    "OUTPUT_FILE  = \"../claim1.txt\"\n",
    "REFS_MODE    = \"remove\"        # \"keep\" | \"remove\" | \"replace\" with <IDX>\n",
    "ADD_EOS      = True             # add <eos> token to end of each line\n",
    "ALL_CLAIMS   = False            # True = all claims, False = only claim 1\n",
    "NFKC         = True             # normalize to NFKC form \n",
    "DEDUPE       = True             # deduplicate lines\n",
    "MIN_LEN      = 20               # 0 = no cap \n",
    "MAX_LEN      = 4000             # 0 = no cap\n",
    "\n",
    "# Charset\n",
    "MIN_PRINTABLE_RATIO = 0.98      # drop lines with < this fraction of printable chars\n",
    "MAX_NONASCII_RATIO  = 0.50      # drop lines with > this fraction of non-ASCII (0 disables)"
   ]
  },
  {
   "cell_type": "code",
   "execution_count": 2,
   "id": "90c934d6",
   "metadata": {},
   "outputs": [],
   "source": [
    "import re, json, unicodedata, string\n",
    "from pathlib import Path\n",
    "from tqdm.auto import tqdm\n",
    "\n",
    "# --- Patterns ---\n",
    "REF_PARENS = r\"\"\"[\\(\\[\\{]\\s*(?:\\d+[A-Za-z]*[′'″]*)(?:\\s*,\\s*\\d+[A-Za-z]*[′'″]*)*\\s*[\\)\\]\\}]\"\"\"\n",
    "REF_REGEX  = re.compile(REF_PARENS)\n",
    "WS         = re.compile(r\"\\s+\")\n",
    "\n",
    "PRINTABLE_SET = set(string.printable) | {\"’\",\"“\",\"”\",\"–\",\"—\",\"·\",\"•\",\"°\",\"µ\",\"²\",\"³\",\"±\"}  # allow a few common unicode\n",
    "\n",
    "def is_line_charset_ok(s: str) -> bool:\n",
    "    if not s:\n",
    "        return False\n",
    "    # Count printable (allow whitespace) using Python's notion + our extra set\n",
    "    total = len(s)\n",
    "    printable = sum((ch in PRINTABLE_SET) or ch.isprintable() for ch in s)\n",
    "    if printable / total < MIN_PRINTABLE_RATIO:\n",
    "        return False\n",
    "    if MAX_NONASCII_RATIO:\n",
    "        nonascii = sum(ord(ch) > 127 for ch in s)\n",
    "        if (nonascii / total) > MAX_NONASCII_RATIO:\n",
    "            return False\n",
    "    return True\n",
    "\n",
    "def process_ref_numerals(text: str, mode: str) -> str:\n",
    "    if mode == \"keep\":   return text\n",
    "    if mode == \"remove\": return REF_REGEX.sub(\" \", text)\n",
    "    if mode == \"replace\":\n",
    "        out = REF_REGEX.sub(\" <IDX> \", text)\n",
    "        return re.sub(r\"(?:\\s*<IDX>\\s*){2,}\", \" <IDX> \", out)\n",
    "    raise ValueError(\"REFS_MODE must be 'keep', 'remove', or 'replace'\")\n",
    "\n",
    "def clean_claim(text: str, refs_mode: str, add_eos: bool, nfkc: bool) -> str:\n",
    "    t = text.strip().replace(\"\\n\", \" \")\n",
    "    if nfkc:\n",
    "        t = unicodedata.normalize(\"NFKC\", t)\n",
    "    t = process_ref_numerals(t, refs_mode)\n",
    "    t = WS.sub(\" \", t).strip()\n",
    "    if add_eos and not t.endswith(\"<EOS>\"):\n",
    "        t = f\"{t} <EOS>\"\n",
    "    return t\n",
    "\n",
    "def process_jsonl_dir(\n",
    "    in_dir: str,\n",
    "    out_path: str,\n",
    "    refs_mode: str = \"replace\",\n",
    "    add_eos: bool = True,\n",
    "    all_claims: bool = False,\n",
    "    nfkc: bool = True,\n",
    "    dedupe: bool = True,\n",
    "    min_len: int = 20,\n",
    "    max_len: int = 8000,\n",
    "):\n",
    "    in_dir = Path(in_dir)\n",
    "    files = sorted(in_dir.glob(\"*.jsonl\"))\n",
    "    seen = set()\n",
    "    written = 0\n",
    "\n",
    "    with open(out_path, \"w\", encoding=\"utf-8\") as out_f, tqdm(total=len(files), desc=\"Files\", unit=\"file\") as pbar:\n",
    "        for fp in files:\n",
    "            try:\n",
    "                with open(fp, \"r\", encoding=\"utf-8\", errors=\"ignore\") as fh:\n",
    "                    for line in fh:\n",
    "                        try:\n",
    "                            data = json.loads(line)\n",
    "                        except json.JSONDecodeError:\n",
    "                            continue\n",
    "\n",
    "                        claims = data.get(\"c\", {})\n",
    "                        iter_claims = claims.values() if isinstance(claims, dict) else (claims if isinstance(claims, list) else [])\n",
    "                        for i, claim_text in enumerate(iter_claims):\n",
    "                            if not isinstance(claim_text, str):\n",
    "                                continue\n",
    "                            t = clean_claim(claim_text, refs_mode, add_eos, nfkc)\n",
    "\n",
    "                            # Length + charset guards\n",
    "                            if len(t) < min_len or (max_len and len(t) > max_len):\n",
    "                                if not all_claims and i == 0: break\n",
    "                                else: continue\n",
    "                            if not is_line_charset_ok(t):\n",
    "                                if not all_claims and i == 0: break\n",
    "                                else: continue\n",
    "\n",
    "                            if dedupe:\n",
    "                                if t in seen:\n",
    "                                    if not all_claims and i == 0: break\n",
    "                                    else: continue\n",
    "                                seen.add(t)\n",
    "\n",
    "                            out_f.write(t + \"\\n\")\n",
    "                            written += 1\n",
    "                            if not all_claims:\n",
    "                                break  # only first claim per record\n",
    "            finally:\n",
    "                pbar.update(1)\n",
    "    return written, len(files)\n"
   ]
  },
  {
   "cell_type": "code",
   "execution_count": 3,
   "id": "cfc20d56",
   "metadata": {},
   "outputs": [
    {
     "data": {
      "application/vnd.jupyter.widget-view+json": {
       "model_id": "183a16c4e3534998bbcca67c5d2242ae",
       "version_major": 2,
       "version_minor": 0
      },
      "text/plain": [
       "Files:   0%|          | 0/314 [00:00<?, ?file/s]"
      ]
     },
     "metadata": {},
     "output_type": "display_data"
    },
    {
     "name": "stdout",
     "output_type": "stream",
     "text": [
      "Processed 314 files; wrote 558619 claims → ../claim1.txt\n"
     ]
    }
   ],
   "source": [
    "# RUN\n",
    "count, nfiles = process_jsonl_dir(\n",
    "    INPUT_FOLDER, OUTPUT_FILE,\n",
    "    refs_mode=REFS_MODE,\n",
    "    add_eos=ADD_EOS,\n",
    "    all_claims=ALL_CLAIMS,\n",
    "    nfkc=NFKC,\n",
    "    dedupe=DEDUPE,\n",
    "    min_len=MIN_LEN,\n",
    "    max_len=MAX_LEN,\n",
    ")\n",
    "print(f\"Processed {nfiles} files; wrote {count} claims → {OUTPUT_FILE}\")\n"
   ]
  },
  {
   "cell_type": "code",
   "execution_count": 6,
   "id": "0d5f10d5",
   "metadata": {},
   "outputs": [
    {
     "name": "stdout",
     "output_type": "stream",
     "text": [
      "An X-ray imaging system , comprising: - a moveable X-ray source and/or a moveable X-ray detector ; - a plurality of object-surface detecting sensors ; - a positioning detection arrangement ; - a processing unit ; and - a display unit ; wherein the object-surface detecting sensors are arranged such to detect object data of objects located between the X-ray source and the X-ray detector; wherein the positioning detection arrangement is provided to detect the current position of the X-ray source and/or the X-ray detector and the position of the object-surface detecting sensors; wherein the processing unit is configured to compute a situation-map of the current spatial situation between the X-ray source and the X-ray detector based on the object data provided by the object-surface detecting sensors and the current position, the situation-map distinguishing at least between empty spaces and spaces occupied by rigid objects; and wherein the situation-map comprises a representation of the X-ray source and the X-ray detector in relation to the spatial situation; wherein the display unit is configured to display the situation-map to a user operating the X-ray imaging system; wherein the X-ray imaging system is a C-arm imaging system comprising a C-arm structure , wherein the X-ray source and the X-ray detector are mounted to opposing ends of a C-arm ; and wherein the positioning detection arrangement comprises angulation detectors for providing information about the movement of the C-arm, characterised in that the object-surface detecting sensors are mounted to the C-arm structure in a distributed manner along the inner side of the arc. - a moveable X-ray source and/or a moveable X-ray detector ; - a plurality of object-surface detecting sensors ; - a positioning detection arrangement ; - a processing unit ; and - a display unit ; <EOS>\n",
      "A method performed by a first evolved NodeB, eNB, for transmitting a local home network identity, LHN ID, in a wireless communication system, wherein the first eNB is a master eNB, MeNB, in dual connectivity and a second eNB is a secondary eNB, SeNB, in the dual connectivity, wherein both the first eNB and the second eNB are connected to a stand-alone local gateway, L-GW, corresponding to a local network, and wherein the stand-alone L-GW is co-located with a serving gateway, S-GW, the method comprising: transmitting (S300) a SeNB addition request message including a LHN ID of the first eNB to the second eNB; receiving (S310) a message from the SeNB; if the message is a SeNB addition request acknowledge message including a LHN ID of the second eNB from the second eNB, performing the following steps; transmitting (S340) an E-UTRAN radio access bearer, E-RAB, modification indication message including the LHN ID of the second eNB to a mobility management entity, MME; and receiving (S380) an E-RAB modification confirmation message including a list of modified E-RABs and/or a list of failed E-RABs from the MME, wherein the LHN ID of the first eNB is the same as the LHN ID of the second eNB. transmitting (S300) a SeNB addition request message including a LHN ID of the first eNB to the second eNB; receiving (S310) a message from the SeNB; if the message is a SeNB addition request acknowledge message including a LHN ID of the second eNB from the second eNB, performing the following steps; transmitting (S340) an E-UTRAN radio access bearer, E-RAB, modification indication message including the LHN ID of the second eNB to a mobility management entity, MME; and receiving (S380) an E-RAB modification confirmation message including a list of modified E-RABs and/or a list of failed E-RABs from the MME, wherein the LHN ID of the first eNB is the same as the LHN ID of the second eNB. <EOS>\n",
      "A gas turbine engine comprising: a nose cone ; and a fan for delivering air into a bypass duct as bypass flow (B), and into a core engine, to be delivered to a compressor, said nose cone including a vent to receive air and deliver said air across a heat exchanger , said heat exchanger receiving a fluid to be cooled, and the air from the vents being delivered to an outlet downstream of the heat exchanger , such that a majority of the air being delivered to said outlet becomes part of the bypass flow (B), wherein a stationary vane is included, and said nose cone communicates air downstream of the heat exchanger into an interior of the stationary vane to be delivered to said outlet ; characterised in that there are a plurality of said outlets , and said vane has a radial span and at least a majority of said outlets are positioned in an outer 50 percent of said span. a nose cone ; and a fan for delivering air into a bypass duct as bypass flow (B), and into a core engine, to be delivered to a compressor, said nose cone including a vent to receive air and deliver said air across a heat exchanger , said heat exchanger receiving a fluid to be cooled, and the air from the vents being delivered to an outlet downstream of the heat exchanger , such that a majority of the air being delivered to said outlet becomes part of the bypass flow (B), wherein a stationary vane is included, and said nose cone communicates air downstream of the heat exchanger into an interior of the stationary vane to be delivered to said outlet ; characterised in that there are a plurality of said outlets , and said vane has a radial span and at least a majority of said outlets are positioned in an outer 50 percent of said span. <EOS>\n",
      "A sealing member comprising: a rubber stopper including an electric wire through portion including a plurality of through holes through which electric wires are passed, respectively; and a rear guide member including a plurality of guide holes located more to a rear than the electric wire through portion in an extending direction (A) in which the electric wires passed through the plurality of through holes extend and through which the electric wires are passed, the plurality of guide holes being aligned with the plurality of through holes of the rubber stopper , characterized in that the rear guide member includes a lock catch portion for locking with the rubber stopper , the rubber stopper includes a lock portion with which the lock catch portion is engaged and a holding portion inside the rubber stopper for holding the rear guide member , the lock portion is configured to protrude inward from the inner periphery of the holding portion , and the rubber stopper is held at a position relative to the rear guide member with the lock portion engaged with the lock catch portion such that the plurality of through holes of the rubber stopper are aligned with the plurality of guide holes of the rear guide member . a rubber stopper including an electric wire through portion including a plurality of through holes through which electric wires are passed, respectively; and a rear guide member including a plurality of guide holes located more to a rear than the electric wire through portion in an extending direction (A) in which the electric wires passed through the plurality of through holes extend and through which the electric wires are passed, the plurality of guide holes being aligned with the plurality of through holes of the rubber stopper , characterized in that the rear guide member includes a lock catch portion for locking with the rubber stopper , the rubber stopper includes a lock portion with which the lock catch portion is engaged and a holding portion inside the rubber stopper for holding the rear guide member , the lock portion is configured to protrude inward from the inner periphery of the holding portion , and the rubber stopper is held at a position relative to the rear guide member with the lock portion engaged with the lock catch portion such that the plurality of through holes of the rubber stopper are aligned with the plurality of guide holes of the rear guide member . <EOS>\n",
      "A wireless packet communication method for simultaneously transmitting a plurality of data packets between two station, STAs, by Multiple Input Multiple Output, MIMO, using multiple wireless channels determined to be idle by carrier sense, the two STAs capable of using MIMO and comprising a plurality of antennas, the method being characterized by : in retransmission processing due to a failure of transmission of the data packets, comparing (S112) the number of spatial streams of the MIMO technique on one wireless channel determined to be idle by the carrier sense with the number of retransmission packets, the retransmission packets being those data packets for which an ACK packet is not received within a predetermined time; when the number of spatial streams of the MIMO technique is equal to or larger than the number of retransmission packets, dividing (S113) the retransmission packets for reconstruction into a number of reconstructed retransmission packets with the same time needed for transmission wherein the number of reconstructed retransmission packets is equal to the number of spatial streams of the MIMO technique; and simultaneously transmitting (S113) each reconstructed retransmission packet by using respective antennas of the MIMO. in retransmission processing due to a failure of transmission of the data packets, comparing (S112) the number of spatial streams of the MIMO technique on one wireless channel determined to be idle by the carrier sense with the number of retransmission packets, the retransmission packets being those data packets for which an ACK packet is not received within a predetermined time; when the number of spatial streams of the MIMO technique is equal to or larger than the number of retransmission packets, dividing (S113) the retransmission packets for reconstruction into a number of reconstructed retransmission packets with the same time needed for transmission wherein the number of reconstructed retransmission packets is equal to the number of spatial streams of the MIMO technique; and simultaneously transmitting (S113) each reconstructed retransmission packet by using respective antennas of the MIMO. <EOS>\n",
      "A diagnostic system for monitoring changes in a fluid in the brain of a patient, the system comprising: a headset for holding the system on the patient's head; one or more stabilizers coupled with the headset to reduce relative motion of the headset relative to the patient; a transmitter attached to the headset and configured to generate and transmit a time-varying magnetic field into the fluid responsive to a first signal; a receiver , attached to the headset and positioned on an opposite side of the fluid from the transmitter and configured to generate a second signal responsive to a received magnetic field at the receiver; a processing unit configured to determine a phase shift between the transmitted magnetic field and the received magnetic field for a plurality of frequencies of the transmitted time-varying magnetic field; and at least one motion detection member configured to detect motion of one or more of the transmitter, receiver or the patient; wherein the processing unit is configured to exclude phase shift data corresponding to periods of time wherein the motion detection member detects motion of one of the transmitter, receiver or patient above a set threshold; wherein at least one of the transmitter or the receiver comprises a loop formed using a shielded transmission line, and wherein the shielded transmission line comprises a strip line on a printed circuit board coupled between two grounded planes , and the loop has a lowest natural resonant frequency above 200 MHz. a headset for holding the system on the patient's head; one or more stabilizers coupled with the headset to reduce relative motion of the headset relative to the patient; a transmitter attached to the headset and configured to generate and transmit a time-varying magnetic field into the fluid responsive to a first signal; a receiver , attached to the headset and positioned on an opposite side of the fluid from the transmitter and configured to generate a second signal responsive to a received magnetic field at the receiver; a processing unit configured to determine a phase shift between the transmitted magnetic field and the received magnetic field for a plurality of frequencies of the transmitted time-varying magnetic field; and at least one motion detection member configured to detect motion of one or more of the transmitter, receiver or the patient; wherein the processing unit is configured to exclude phase shift data corresponding to periods of time wherein the motion detection member detects motion of one of the transmitter, receiver or patient above a set threshold; wherein at least one of the transmitter or the receiver comprises a loop formed using a shielded transmission line, and wherein the shielded transmission line comprises a strip line on a printed circuit board coupled between two grounded planes , and the loop has a lowest natural resonant frequency above 200 MHz. <EOS>\n",
      "A semiconductor storage device comprising: a memory array (MA) comprising a plurality of memory cells (MC) provided in rows and columns; and a control circuit for controlling the memory array, each of the memory cells being a static-type memory cell comprising driving transistors (NT0, NT1), transfer transistors (AT0, AT1), and load elements (PTO, PT1), the memory array being divided into subdivisions, each subdivision being at least one column of memory cells, the control circuit comprising, with respect to each column of memory cells: a source line (ARVSS) coupled to a source electrode of each of the driving transistors; a plurality of first switching transistors coupled between the source line and a ground voltage; and a plurality of second switching transistors coupled between the source line and the ground voltage, wherein one pair of the first and second switching transistors is provided at one end side of said column of memory cells, another pair of the first and second switching transistors is provided at the other end side of said column of memory cells, the control circuit is adapted to adjust the potential of the source line by controlling the first and second switching transistors, and the control circuit is adapted to make the first and second switching transistors conductive to couple the source line to the ground voltage, respectively, when the memory cells are operating, and set the first switching transistors non-conductive and set a gate electrode of the second switching transistors coupled to the source line, when the memory cells are in standby mode. a memory array (MA) comprising a plurality of memory cells (MC) provided in rows and columns; and a control circuit for controlling the memory array, each of the memory cells being a static-type memory cell comprising driving transistors (NT0, NT1), transfer transistors (AT0, AT1), and load elements (PTO, PT1), the memory array being divided into subdivisions, each subdivision being at least one column of memory cells, the control circuit comprising, with respect to each column of memory cells: a source line (ARVSS) coupled to a source electrode of each of the driving transistors; a plurality of first switching transistors coupled between the source line and a ground voltage; and a plurality of second switching transistors coupled between the source line and the ground voltage, a source line (ARVSS) coupled to a source electrode of each of the driving transistors; a plurality of first switching transistors coupled between the source line and a ground voltage; and a plurality of second switching transistors coupled between the source line and the ground voltage, wherein one pair of the first and second switching transistors is provided at one end side of said column of memory cells, another pair of the first and second switching transistors is provided at the other end side of said column of memory cells, the control circuit is adapted to adjust the potential of the source line by controlling the first and second switching transistors, and the control circuit is adapted to make the first and second switching transistors conductive to couple the source line to the ground voltage, respectively, when the memory cells are operating, and set the first switching transistors non-conductive and set a gate electrode of the second switching transistors coupled to the source line, when the memory cells are in standby mode. <EOS>\n",
      "Use as perfuming ingredient of a compound of formula in the form of any one of its stereoisomers or a mixture thereof, and wherein the bold and hatched lines indicate a relative or absolute configuration; and one dotted line represents a carbon-carbon single bond and the other a carbon-carbon double bond. <EOS>\n",
      "A wind turbine tower comprising: a plurality of tower sections (12a - 12e) axially aligned and connected together; each tower section (12a - 12e) including an inner wall concentrically positioned within an outer wall and defining an annular space between the inner wall and the outer wall , and a layer of concrete within the annular space ; and a plurality of post-tensioning cables , the post-tensioning cables extending longitudinally one of within the annular space and outside the outer wall , such that a first one of the tower sections (12a - 12e) is connected to a second one of the tower sections (12a - 12e) by a plurality of the post-tensioning cables ; characterized in that : shear transfer members are formed within the annular space on one of a longitudinally extending inside surface of the outer wall and a longitudinally extending outside surface of the inner wall . a plurality of tower sections (12a - 12e) axially aligned and connected together; each tower section (12a - 12e) including an inner wall concentrically positioned within an outer wall and defining an annular space between the inner wall and the outer wall , and a layer of concrete within the annular space ; and a plurality of post-tensioning cables , the post-tensioning cables extending longitudinally one of within the annular space and outside the outer wall , such that a first one of the tower sections (12a - 12e) is connected to a second one of the tower sections (12a - 12e) by a plurality of the post-tensioning cables ; characterized in that : shear transfer members are formed within the annular space on one of a longitudinally extending inside surface of the outer wall and a longitudinally extending outside surface of the inner wall . <EOS>\n",
      "Flow body comprising a housing , at least one cavity at least in part delimited by an inner curved wall of a rigid wall portion and by an inner curved wall of an upper part of the housing , the curvatures of the curved inner walls corresponding to each other, and an actuator assembly for manipulating a fluid flowing around the flow body , a volume of the at least one cavity configured to receive part of said fluid such that said fluid passes through at least one opening in the at least one cavity during manipulation of said fluid, said actuator assembly comprising a drive unit with at least one actuator , said actuator being coupled to a coupling element connected to the wall portion , the at least one actuator configured to execute a periodic movement over time when actuated, such that said movement causes a translational movement of the wall portion and a change of the volume of the at least one cavity , wherein the at least one opening is slot-shaped; and wherein the geometry of an edge region of the at least one opening is designed according to a specific angle of the fluid entrance and outlet to be achieved. <EOS>\n"
     ]
    }
   ],
   "source": [
    "N = 10  # Number of lines to print\n",
    "with open(OUTPUT_FILE, \"r\", encoding=\"utf-8\") as f:\n",
    "    for i, line in enumerate(f):\n",
    "        if i >= N:\n",
    "            break\n",
    "        print(line.strip())"
   ]
  }
 ],
 "metadata": {
  "kernelspec": {
   "display_name": "patent-llms",
   "language": "python",
   "name": "python3"
  },
  "language_info": {
   "codemirror_mode": {
    "name": "ipython",
    "version": 3
   },
   "file_extension": ".py",
   "mimetype": "text/x-python",
   "name": "python",
   "nbconvert_exporter": "python",
   "pygments_lexer": "ipython3",
   "version": "3.11.11"
  }
 },
 "nbformat": 4,
 "nbformat_minor": 5
}
