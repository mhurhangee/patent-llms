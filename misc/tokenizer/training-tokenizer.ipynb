{
 "cells": [
  {
   "cell_type": "code",
   "execution_count": 19,
   "id": "005ca5a4",
   "metadata": {},
   "outputs": [],
   "source": [
    "import os\n",
    "\n",
    "# Dataset on HF Hub\n",
    "DATASET_ID  = \"mhurhangee/patent-ind-claim-en\"  # must have \"text\" column\n",
    "SPLIT       = \"train\"  # or \"train+validation\" if you want more data\n",
    "SEED        = 42\n",
    "\n",
    "# Tokenizer params\n",
    "VOCAB_SIZE      = 16000\n",
    "MIN_FREQUENCY   = 2\n",
    "SPECIAL_TOKENS  = [\"[UNK]\", \"[PAD]\", \"[CLS]\", \"[SEP]\", \"<IDX>\", \"<EOS>\"]\n",
    "\n",
    "# HF Hub tokenizer repo\n",
    "TOKENIZER_REPO_ID = \"mhurhangee/patent-claims-tokenizer-16000\"\n",
    "PRIVATE           = True\n",
    "HF_TOKEN          = os.getenv(\"HF_TOKEN\")  # from .env"
   ]
  },
  {
   "cell_type": "code",
   "execution_count": 20,
   "id": "9c2c8196",
   "metadata": {},
   "outputs": [],
   "source": [
    "from huggingface_hub import create_repo\n",
    "from tokenizers import Tokenizer, normalizers\n",
    "from tokenizers.models import BPE\n",
    "from tokenizers.pre_tokenizers import Whitespace\n",
    "from tokenizers.trainers import BpeTrainer\n",
    "from tokenizers.normalizers import NFKC, Lowercase, StripAccents, Strip\n",
    "from transformers import PreTrainedTokenizerFast\n",
    "from datasets import load_dataset"
   ]
  },
  {
   "cell_type": "code",
   "execution_count": 21,
   "id": "2bbf9700",
   "metadata": {},
   "outputs": [],
   "source": [
    "ds = load_dataset(DATASET_ID, split=SPLIT)\n",
    "# Ensure plain text list\n",
    "texts = [t.strip() for t in ds[\"text\"] if t.strip()]"
   ]
  },
  {
   "cell_type": "code",
   "execution_count": 22,
   "id": "20b35f37",
   "metadata": {},
   "outputs": [],
   "source": [
    "normalizer = normalizers.Sequence([\n",
    "    NFKC(),\n",
    "    Lowercase(),\n",
    "    StripAccents(),\n",
    "    Strip()\n",
    "])\n",
    "\n",
    "tokenizer = Tokenizer(BPE(unk_token=\"[UNK]\"))\n",
    "tokenizer.normalizer = normalizer\n",
    "tokenizer.pre_tokenizer = Whitespace()\n",
    "\n",
    "# Trainer\n",
    "trainer = BpeTrainer(\n",
    "    vocab_size=VOCAB_SIZE,\n",
    "    min_frequency=MIN_FREQUENCY,\n",
    "    special_tokens=SPECIAL_TOKENS\n",
    ")"
   ]
  },
  {
   "cell_type": "code",
   "execution_count": 23,
   "id": "c8dcaf1e",
   "metadata": {},
   "outputs": [
    {
     "name": "stdout",
     "output_type": "stream",
     "text": [
      "\n",
      "\n",
      "\n"
     ]
    }
   ],
   "source": [
    "# Train\n",
    "tokenizer.train_from_iterator(texts, trainer=trainer)"
   ]
  },
  {
   "cell_type": "code",
   "execution_count": 24,
   "id": "6197b990",
   "metadata": {},
   "outputs": [
    {
     "data": {
      "text/plain": [
       "('../data/patent-claims-tokenizer-16000/tokenizer_config.json',\n",
       " '../data/patent-claims-tokenizer-16000/special_tokens_map.json',\n",
       " '../data/patent-claims-tokenizer-16000/tokenizer.json')"
      ]
     },
     "execution_count": 24,
     "metadata": {},
     "output_type": "execute_result"
    }
   ],
   "source": [
    "tok = PreTrainedTokenizerFast(\n",
    "    tokenizer_object=tokenizer,\n",
    "    unk_token=\"[UNK]\",\n",
    "    pad_token=\"[PAD]\",\n",
    "    cls_token=\"[CLS]\",\n",
    "    sep_token=\"[SEP]\",\n",
    "    eos_token=\"<EOS>\"\n",
    "\n",
    ")\n",
    "\n",
    "tok.save_pretrained(\"../data/\" + TOKENIZER_REPO_ID.split(\"/\")[1])  # save to local dir"
   ]
  },
  {
   "cell_type": "code",
   "execution_count": 25,
   "id": "2b2b0cc9",
   "metadata": {},
   "outputs": [
    {
     "name": "stdout",
     "output_type": "stream",
     "text": [
      "Tokenizer pushed to https://huggingface.co/mhurhangee/patent-claims-tokenizer-16000\n"
     ]
    }
   ],
   "source": [
    "    create_repo(TOKENIZER_REPO_ID, repo_type=\"model\", private=PRIVATE, exist_ok=True, token=HF_TOKEN)\n",
    "    tok.push_to_hub(TOKENIZER_REPO_ID, token=HF_TOKEN)\n",
    "    print(f\"Tokenizer pushed to https://huggingface.co/{TOKENIZER_REPO_ID}\")\n"
   ]
  }
 ],
 "metadata": {
  "kernelspec": {
   "display_name": "patent-llms",
   "language": "python",
   "name": "python3"
  },
  "language_info": {
   "codemirror_mode": {
    "name": "ipython",
    "version": 3
   },
   "file_extension": ".py",
   "mimetype": "text/x-python",
   "name": "python",
   "nbconvert_exporter": "python",
   "pygments_lexer": "ipython3",
   "version": "3.11.11"
  }
 },
 "nbformat": 4,
 "nbformat_minor": 5
}
