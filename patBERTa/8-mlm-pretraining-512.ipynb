{
 "cells": [
  {
   "cell_type": "code",
   "execution_count": 1,
   "id": "6ad571f4",
   "metadata": {},
   "outputs": [
    {
     "data": {
      "application/vnd.jupyter.widget-view+json": {
       "model_id": "babca98ee78f4ed1a734c2102d1de129",
       "version_major": 2,
       "version_minor": 0
      },
      "text/plain": [
       "Map:   0%|          | 0/337648 [00:00<?, ? examples/s]"
      ]
     },
     "metadata": {},
     "output_type": "display_data"
    },
    {
     "data": {
      "application/vnd.jupyter.widget-view+json": {
       "model_id": "29e2423c284b455bb7f9b46179ec7ddf",
       "version_major": 2,
       "version_minor": 0
      },
      "text/plain": [
       "Map:   0%|          | 0/3445 [00:00<?, ? examples/s]"
      ]
     },
     "metadata": {},
     "output_type": "display_data"
    },
    {
     "data": {
      "application/vnd.jupyter.widget-view+json": {
       "model_id": "5931d31717bc44a9b43c4411ba127338",
       "version_major": 2,
       "version_minor": 0
      },
      "text/plain": [
       "Saving the dataset (0/2 shards):   0%|          | 0/337648 [00:00<?, ? examples/s]"
      ]
     },
     "metadata": {},
     "output_type": "display_data"
    },
    {
     "data": {
      "application/vnd.jupyter.widget-view+json": {
       "model_id": "92077b03b29145438cfd5ff141d224c1",
       "version_major": 2,
       "version_minor": 0
      },
      "text/plain": [
       "Saving the dataset (0/1 shards):   0%|          | 0/3445 [00:00<?, ? examples/s]"
      ]
     },
     "metadata": {},
     "output_type": "display_data"
    },
    {
     "data": {
      "text/html": [
       "\n",
       "    <div>\n",
       "      \n",
       "      <progress value='21104' max='21104' style='width:300px; height:20px; vertical-align: middle;'></progress>\n",
       "      [21104/21104 3:36:24, Epoch 2/2]\n",
       "    </div>\n",
       "    <table border=\"1\" class=\"dataframe\">\n",
       "  <thead>\n",
       " <tr style=\"text-align: left;\">\n",
       "      <th>Step</th>\n",
       "      <th>Training Loss</th>\n",
       "      <th>Validation Loss</th>\n",
       "    </tr>\n",
       "  </thead>\n",
       "  <tbody>\n",
       "    <tr>\n",
       "      <td>2638</td>\n",
       "      <td>5.442700</td>\n",
       "      <td>5.161840</td>\n",
       "    </tr>\n",
       "    <tr>\n",
       "      <td>5276</td>\n",
       "      <td>4.956100</td>\n",
       "      <td>4.875057</td>\n",
       "    </tr>\n",
       "    <tr>\n",
       "      <td>7914</td>\n",
       "      <td>4.821400</td>\n",
       "      <td>4.717948</td>\n",
       "    </tr>\n",
       "    <tr>\n",
       "      <td>10552</td>\n",
       "      <td>4.419300</td>\n",
       "      <td>3.814816</td>\n",
       "    </tr>\n",
       "    <tr>\n",
       "      <td>13190</td>\n",
       "      <td>3.735400</td>\n",
       "      <td>3.270748</td>\n",
       "    </tr>\n",
       "    <tr>\n",
       "      <td>15828</td>\n",
       "      <td>3.481500</td>\n",
       "      <td>3.116742</td>\n",
       "    </tr>\n",
       "    <tr>\n",
       "      <td>18466</td>\n",
       "      <td>3.393600</td>\n",
       "      <td>3.008044</td>\n",
       "    </tr>\n",
       "    <tr>\n",
       "      <td>21104</td>\n",
       "      <td>3.336200</td>\n",
       "      <td>2.979048</td>\n",
       "    </tr>\n",
       "  </tbody>\n",
       "</table><p>"
      ],
      "text/plain": [
       "<IPython.core.display.HTML object>"
      ]
     },
     "metadata": {},
     "output_type": "display_data"
    },
    {
     "name": "stderr",
     "output_type": "stream",
     "text": [
      "There were missing keys in the checkpoint model loaded: ['lm_head.decoder.weight', 'lm_head.decoder.bias'].\n"
     ]
    },
    {
     "data": {
      "text/html": [
       "\n",
       "    <div>\n",
       "      \n",
       "      <progress value='431' max='431' style='width:300px; height:20px; vertical-align: middle;'></progress>\n",
       "      [431/431 00:21]\n",
       "    </div>\n",
       "    "
      ],
      "text/plain": [
       "<IPython.core.display.HTML object>"
      ]
     },
     "metadata": {},
     "output_type": "display_data"
    },
    {
     "name": "stdout",
     "output_type": "stream",
     "text": [
      "{'eval_loss': 2.9789295196533203, 'eval_runtime': 21.742, 'eval_samples_per_second': 158.449, 'eval_steps_per_second': 19.823, 'epoch': 2.0} Perplexity: 19.666752500362946\n"
     ]
    }
   ],
   "source": [
    "# =========================================\n",
    "# patRoBERTa Toy MLM — Simple & Stable\n",
    "# =========================================\n",
    "import math\n",
    "from pathlib import Path\n",
    "from datasets import load_dataset, load_from_disk\n",
    "from transformers import (\n",
    "    RobertaConfig, RobertaForMaskedLM, RobertaTokenizerFast,\n",
    "    DataCollatorForLanguageModeling, Trainer, TrainingArguments\n",
    ")\n",
    "\n",
    "# ---------- CONSTANTS (edit) ----------\n",
    "TRAIN_TXT     = \"../data/ep-b1-claim1-corpus/ep-b1-claim1-cpc_train.txt\"\n",
    "VAL_TXT       = \"../data/ep-b1-claim1-corpus/ep-b1-claim1-cpc_val.txt\"\n",
    "ENCODINGS_DIR = Path(\"../data/patroberta-encoded-512-vs8000\")\n",
    "TOKENIZER_DIR = \"../artifacts/patroberta-tokenizers/vs8000\"\n",
    "\n",
    "SEQ_LEN = 512                  # keep small on 4GB\n",
    "ARCH_MAX_POSITIONS = 514       # capacity (OK for 512 later)\n",
    "MLM_PROB = 0.15\n",
    "\n",
    "# Tiny model\n",
    "HIDDEN_SIZE, NUM_LAYERS, NUM_HEADS, INTER_SIZE = 128, 2, 2, 512\n",
    "DROPOUT = 0.1\n",
    "\n",
    "# Training knobs (keep tiny to avoid OOM)\n",
    "PER_DEVICE_TRAIN_BS = 64       # fits 4GB with fp16 + checkpointing\n",
    "PER_DEVICE_EVAL_BS  = 8\n",
    "GRAD_ACCUM_STEPS    = 2        # effective batch = 32 sequences\n",
    "LEARNING_RATE       = 5e-4\n",
    "WEIGHT_DECAY        = 0.01\n",
    "WARMUP_RATIO        = 0.06\n",
    "FP16                = True\n",
    "NUM_EPOCHS          = 2        # or set MAX_STEPS instead of epochs\n",
    "\n",
    "OUT_DIR = \"../artifacts/patroberta-mlm-512-simple\"\n",
    "\n",
    "# ---------- Tokenizer & data ----------\n",
    "tok = RobertaTokenizerFast.from_pretrained(TOKENIZER_DIR)\n",
    "tok.model_max_length = SEQ_LEN\n",
    "\n",
    "def enc(b): return tok(b[\"text\"], truncation=True, max_length=SEQ_LEN)\n",
    "\n",
    "if ENCODINGS_DIR.exists():\n",
    "    ds = load_from_disk(str(ENCODINGS_DIR))\n",
    "else:\n",
    "    raw = load_dataset(\"text\", data_files={\"train\": TRAIN_TXT, \"validation\": VAL_TXT})\n",
    "    ds = raw.map(enc, batched=True, remove_columns=[\"text\"])\n",
    "    ds.save_to_disk(str(ENCODINGS_DIR))\n",
    "\n",
    "# ---------- Collator ----------\n",
    "collator = DataCollatorForLanguageModeling(tokenizer=tok, mlm=True, mlm_probability=MLM_PROB)\n",
    "\n",
    "# ---------- Model ----------\n",
    "cfg = RobertaConfig(\n",
    "    vocab_size=tok.vocab_size,\n",
    "    hidden_size=HIDDEN_SIZE,\n",
    "    num_hidden_layers=NUM_LAYERS,\n",
    "    num_attention_heads=NUM_HEADS,\n",
    "    intermediate_size=INTER_SIZE,\n",
    "    hidden_dropout_prob=DROPOUT,\n",
    "    attention_probs_dropout_prob=DROPOUT,\n",
    "    max_position_embeddings=ARCH_MAX_POSITIONS,\n",
    "    pad_token_id=tok.pad_token_id,\n",
    "    bos_token_id=tok.bos_token_id,\n",
    "    eos_token_id=tok.eos_token_id,\n",
    ")\n",
    "model = RobertaForMaskedLM(cfg)\n",
    "model.gradient_checkpointing_enable()  # big saver on 4GB\n",
    "\n",
    "# ---------- Auto-scale logging by epoch fraction ----------\n",
    "steps_per_epoch = max(1, math.ceil(len(ds[\"train\"]) / (PER_DEVICE_TRAIN_BS * GRAD_ACCUM_STEPS)))\n",
    "EVAL_STEPS     = max(1, steps_per_epoch // 4)   # 4× per epoch\n",
    "SAVE_STEPS     = EVAL_STEPS\n",
    "LOGGING_STEPS  = max(1, steps_per_epoch // 10)  # 10× per epoch\n",
    "\n",
    "# ---------- Training args ----------\n",
    "args = TrainingArguments(\n",
    "    output_dir=OUT_DIR,\n",
    "    per_device_train_batch_size=PER_DEVICE_TRAIN_BS,\n",
    "    per_device_eval_batch_size=PER_DEVICE_EVAL_BS,\n",
    "    gradient_accumulation_steps=GRAD_ACCUM_STEPS,\n",
    "    learning_rate=LEARNING_RATE,\n",
    "    weight_decay=WEIGHT_DECAY,\n",
    "    warmup_ratio=WARMUP_RATIO,\n",
    "    num_train_epochs=NUM_EPOCHS,\n",
    "    eval_strategy=\"steps\",\n",
    "    eval_steps=EVAL_STEPS,\n",
    "    save_steps=SAVE_STEPS,\n",
    "    logging_steps=LOGGING_STEPS,\n",
    "    fp16=FP16,\n",
    "    fp16_full_eval=True,\n",
    "    report_to=\"none\",\n",
    "    load_best_model_at_end=True,\n",
    "    metric_for_best_model=\"loss\",\n",
    "    greater_is_better=False,\n",
    "    torch_empty_cache_steps=LOGGING_STEPS,\n",
    ")\n",
    "\n",
    "trainer = Trainer(\n",
    "    model=model,\n",
    "    args=args,\n",
    "    train_dataset=ds[\"train\"],\n",
    "    eval_dataset=ds[\"validation\"],\n",
    "    processing_class=tok,\n",
    "    data_collator=collator,\n",
    ")\n",
    "\n",
    "trainer.train()\n",
    "out = trainer.evaluate()\n",
    "import math as _m\n",
    "print(out, \"Perplexity:\", _m.exp(out[\"eval_loss\"]))\n"
   ]
  }
 ],
 "metadata": {
  "kernelspec": {
   "display_name": "patent-llms",
   "language": "python",
   "name": "python3"
  },
  "language_info": {
   "codemirror_mode": {
    "name": "ipython",
    "version": 3
   },
   "file_extension": ".py",
   "mimetype": "text/x-python",
   "name": "python",
   "nbconvert_exporter": "python",
   "pygments_lexer": "ipython3",
   "version": "3.11.11"
  }
 },
 "nbformat": 4,
 "nbformat_minor": 5
}
